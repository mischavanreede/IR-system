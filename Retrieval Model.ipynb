{
 "cells": [
  {
   "cell_type": "code",
   "execution_count": 1,
   "metadata": {
    "scrolled": false
   },
   "outputs": [],
   "source": [
    "# RUN: 'pip install jsonlines' on: ModuleNotFoundError: No module named 'jsonlines'\n",
    "import json\n",
    "import jsonlines\n",
    "from tqdm import tqdm\n",
    "import pandas as pd\n",
    "import pickle\n",
    "\n",
    "# RUN: 'pip install whoosh' on: ModuleNotFoundError: No module named 'whoosh'\n",
    "import os, os.path\n",
    "\n",
    "#from whoosh import index\n",
    "import whoosh\n",
    "from whoosh.index import create_in\n",
    "from whoosh.fields import *\n",
    "from whoosh.writing import AsyncWriter\n",
    "\n",
    "from datetime import datetime\n",
    "from pytz import timezone\n",
    "\n",
    "from IPython.display import clear_output\n",
    "\n",
    "######################################\n",
    "\n",
    "class Indexer:\n",
    "    '''This class is used to create index of the WP database'''\n",
    "    \n",
    "    index_created = False\n",
    "    index_directory = \"\"\n",
    "    data_path = \"\"       \n",
    "    \n",
    "    def __init__(self):\n",
    "        print('Indexer has been initiated.')\n",
    "        \n",
    "    def indexCreated(self):\n",
    "        return self.index_created\n",
    "    \n",
    "    def openIndex(self):\n",
    "        pass\n",
    "      \n",
    "    ## Count documents\n",
    "    def countDocuments(self):\n",
    "        print(\"Counting documents, this might take a while...\")\n",
    "        counter = 0\n",
    "        tenKCounter = 0\n",
    "\n",
    "        with jsonlines.open(self.data_path) as reader:\n",
    "            for obj in tqdm(reader.iter(type=dict, skip_invalid=True)):\n",
    "                tenKCounter += 1\n",
    "                counter += 1\n",
    "            \n",
    "                if tenKCounter >= 10000:\n",
    "                    print(\"Current count is: \" + str(counter))\n",
    "                    tenKCounter = 0 \n",
    "        print(\"Last count is: \" + str(counter))\n",
    "        print(\"Counting done.\")\n",
    "    \n",
    "    def printDocumentData(self):\n",
    "        '''Prints every 10000th object'''\n",
    "        #dataframe = pd.DataFrame(columns = ['Title', 'Content', 'Year'])\n",
    "        with jsonlines.open(self.data_path) as reader:\n",
    "            counter = 0\n",
    "            for obj in tqdm(reader.iter(type=dict, skip_invalid=True)):\n",
    "                counter += 1\n",
    "                if (counter % 10000) == 0:\n",
    "                    print(\"Object number:\" + str(counter))\n",
    "                    print(type(obj))\n",
    "                    doc = Document(**obj)\n",
    "                    print(doc)\n",
    "        \n",
    "    def extractDocumentContents(self, contents):\n",
    "        '''Extracts document contents from array of dicts to string'''\n",
    "        build_string = \"\"\n",
    "        json_array = json.dumps(str(contents))\n",
    "        \n",
    "        for item in json_array:\n",
    "            try:\n",
    "                print(str(item['type']))\n",
    "                if str(item['type']) == \"sanitized_html\":\n",
    "                    build_string = build_string + str(item['content'])\n",
    "                    build_string = build_string + \"\\n\"\n",
    "            except:\n",
    "                build_string = \"Could not retreive content\"\n",
    "        \n",
    "        print(build_string)\n",
    "        return build_string\n",
    "    \n",
    "    def extractDocumentDate(self, epochTimestamp):\n",
    "        '''Converst UNIX epoch timestamp to DATETIME'''\n",
    "        # TODO IMPLENT Default value on Handling Error: ValueError: invalid literal for int() with base 10: 'None'\n",
    "        if (epochTimestamp == ''):\n",
    "            return datetime(1,1,1)\n",
    "        try:\n",
    "            # Test if source is within specified dates\n",
    "            date_info = epochTimestamp\n",
    "            removed_zeros = str(date_info)[0:10]\n",
    "            timestamp = int(removed_zeros)\n",
    "            return datetime.fromtimestamp(timestamp, timezone('EST'))\n",
    "        except:\n",
    "            print(\"ERROR: In extractDocumentDate()\")\n",
    "            print(\"ERROR: \", sys.exc_info()[0])\n",
    "            #print(\"Caused by value: \" + str(date_info))\n",
    "            return datetime(1,1,1)\n",
    "    \n",
    "    def setIndexDirectory(self, directory):\n",
    "        self.index_directory = directory\n",
    "    \n",
    "    def getIndexLocation(self):\n",
    "        return self.index_directory\n",
    "    \n",
    "    def setDataPath(self, file_location):\n",
    "        self.data_path = file_location\n",
    "    \n",
    "    def getDataPath(self):\n",
    "        return self.data_path\n",
    "    \n",
    "    def setIndexCreatedTrue(self):\n",
    "        self.index_created = True        \n",
    "    \n",
    "    def index(self):\n",
    "        '''This method indexes the data'''\n",
    "        # https://whoosh.readthedocs.io/en/latest/api/writing.html\n",
    "        # https://appliedmachinelearning.blog/2018/07/31/developing-a-fast-indexing-and-full-text-search-engine-with-whoosh-a-pure-python-library/\n",
    "        # TODO add document contents to index\n",
    "        \n",
    "        #  [id, article_url, title, author, publised_date, contents, type, source]\n",
    "        # Define fields using whoosh's 'Schema' | https://whoosh.readthedocs.io/en/latest/schema.html#\n",
    "        # Can add field boost here\n",
    "        # TODO: critically look at different fields, which are important?, which need to be shown to the user? etc.\n",
    "        # TODO: check if index_location has been set\n",
    "        \n",
    "        assert self.index_directory and self.data_path # Both variables have to be set\n",
    "        \n",
    "        schema = Schema(doc_id = whoosh.fields.ID(unique=True, stored=True),\\\n",
    "                       article_url = whoosh.fields.STORED,\\\n",
    "                       title = whoosh.fields.TEXT(stored=True),\\\n",
    "                       author = whoosh.fields.ID,\\\n",
    "                       published_date = whoosh.fields.DATETIME,\\\n",
    "                       contents = whoosh.fields.TEXT)\n",
    "              \n",
    "        # Creating a index writer to add document as per schema\n",
    "        myindex = whoosh.index.create_in(self.index_directory,schema)\n",
    "        writer = whoosh.writing.AsyncWriter(myindex)\n",
    "        \n",
    "        # Loop over data\n",
    "        print(\"Looping over data. Indexing each article.\")\n",
    "        print(\"This might take a few minutes...\")\n",
    "        counter = 0\n",
    "        checker = 10000\n",
    "        fault_counter = 0\n",
    "        with jsonlines.open(self.data_path) as reader:\n",
    "            for obj in tqdm(reader.iter(type=dict, skip_invalid=True)):\n",
    "                retreived_date = self.extractDocumentDate(obj['published_date'])\n",
    "                if retreived_date != datetime(1,1,1):\n",
    "                    counter = counter + 1\n",
    "                    writer.add_document(doc_id=obj['id'],\\\n",
    "                                        article_url=obj['article_url'],\\\n",
    "                                        title=obj['title'],\\\n",
    "                                        author=obj['author'],\\\n",
    "                                        published_date=retreived_date,\\\n",
    "                                        contents = self.extractDocumentContents(obj['contents']))\n",
    "                else:\n",
    "                    fault_counter = fault_counter + 1\n",
    "                    \n",
    "                if counter > checker:\n",
    "                    writer.commit()\n",
    "                    writer = whoosh.writing.AsyncWriter(myindex)\n",
    "                    checker = checker + 10000\n",
    "                    clear_output(wait=True)\n",
    "                    print(\"Looping over data. Indexing each article.\")\n",
    "                    print(\"This might take a few minutes...\")\n",
    "                    print(\"Indexed \" + str(counter - 1) + \" articles\")\n",
    "                    break\n",
    "                    if fault_counter > 0:\n",
    "                        print(\"Found \" + str(fault_counter) + \" wrongly formatted articles\")\n",
    "            \n",
    "            print(\"Looping complete.\")\n",
    "        print(\"Index created!\")\n",
    "        self.setIndexCreatedTrue()\n",
    "        \n",
    "    \n",
    "\n",
    "\n",
    "# indexer = Indexer()\n",
    "# #indexer.countDocuments()\n",
    "# #indexer.printDocumentData()\n",
    "# #indexer.createDocumentDataStore()\n",
    "# indexer.index()"
   ]
  },
  {
   "cell_type": "code",
   "execution_count": 2,
   "metadata": {},
   "outputs": [],
   "source": [
    "###############################################\n",
    "from whoosh.qparser import QueryParser\n",
    "from whoosh import scoring\n",
    "from whoosh.index import open_dir\n",
    "\n",
    "class Ranking:\n",
    "    '''This class contains functions that are used to create a ranking based on different algorithms'''\n",
    "    \n",
    "    show_n_results = 3\n",
    "    index_directory = \"\"\n",
    "    \n",
    "    def __init__(self):\n",
    "        print(\"Ranking class has been initiated.\")\n",
    "    \n",
    "    def indexCreated(self):\n",
    "        return indexCreated\n",
    "    \n",
    "    def createIndex(self):\n",
    "        pass\n",
    "    \n",
    "    def setIndexDirectory(self, directory):\n",
    "        self.index_directory = directory\n",
    "    \n",
    "    def openIndex(self):\n",
    "        assert self.index_directory\n",
    "        return open_dir(self.index_directory)\n",
    "    \n",
    "   \n",
    "    def resultsToList(self, results):\n",
    "        resultsList = []\n",
    "        for result in results:\n",
    "            resultsList.append(result.fields())\n",
    "        return resultsList\n",
    "            \n",
    "    \n",
    "    def searchTermFrequency(self, user_query, indexer):\n",
    "        '''Returns results for a given query based on the Term Frequency search algorithm. Returned value is a list of dictionaries.'''\n",
    "        #TODO check if index has been created\n",
    "        index_dir = indexer.getIndexLocation()\n",
    "        self.setIndexDirectory(index_dir)\n",
    "        index = self.openIndex()\n",
    "        resultsList = []        \n",
    "        # Add: whoosh.qparser.MultifieldParser(fieldnames, schema, fieldboosts=None, **kwargs)\n",
    "        # TODO: get fieldnames and schema from indexer -> add getters in Inderex class\n",
    "        # TODO: add parameter that dictates search algorithm\n",
    " \n",
    "        with index.searcher(weighting=scoring.Frequency) as searcher:\n",
    "            parsed_query = QueryParser(\"title\", index.schema).parse(user_query)\n",
    "            results = searcher.search(parsed_query, limit=self.show_n_results)\n",
    "            self.printResults(results)\n",
    "            \n",
    "    def searchTermFrequencyReturnResults(self, user_query):\n",
    "        #TODO check if index has been created\n",
    "        index = self.openIndex()\n",
    "        \n",
    "        with index.searcher(weighting=scoring.Frequency) as searcher:\n",
    "            parsed_query = QueryParser(\"title\", index.schema).parse(user_query)\n",
    "            results = searcher.search(parsed_query)            \n",
    "            return results\n",
    "            \n",
    "    \n",
    "    def searchTF_IDF():\n",
    "        '''Returns results for a given query based on the TF-IDF search algorithm. Returned value is a list of dictionaries.'''\n",
    "        pass\n",
    "    \n",
    "    \n",
    "    def searchBM25FReturnResults(self, user_query):\n",
    "        \n",
    "        index = self.openIndex()\n",
    "        \n",
    "        with index.searcher(weighting=scoring.BM25F(B=0.75, content_B=1.0, K1=1.5)) as searcher:\n",
    "            parsed_query = QueryParser(\"title\", index.schema).parse(user_query)\n",
    "            results = searcher.search(parsed_query)            \n",
    "            return results\n",
    "    def searchBM25F():\n",
    "        '''Returns results for a given query based on the BM25F search algorithm. Returned value is a list of dictionaries.'''\n",
    "        pass\n",
    "        \n",
    "    "
   ]
  },
  {
   "cell_type": "code",
   "execution_count": 3,
   "metadata": {
    "scrolled": false
   },
   "outputs": [
    {
     "name": "stdout",
     "output_type": "stream",
     "text": [
      "Ranking class has been initiated.\n"
     ]
    }
   ],
   "source": [
    "################################################\n",
    "import urllib\n",
    "\n",
    "class Evaluation:\n",
    "    '''Used to evaluate the ranking results'''\n",
    "    #should check if query used is in the \n",
    "    \n",
    "    # TODO load evaluation document and queries\n",
    "    # TODO pass queries on to ranking and obtain ranking results\n",
    "    # TODO compare ranking results to TREC evaluation\n",
    "    # TODO display results, how?\n",
    "    # TODO test different algorithms\n",
    "    \n",
    "    queries = []\n",
    "    ranking = Ranking()\n",
    "    \n",
    "    def load_queries(self):\n",
    "        \n",
    "        query_url = \"https://trec.nist.gov/data/core/topics2018.txt\"\n",
    "        query_file = urllib.request.urlopen(query_url)\n",
    "        titles, numbers = [], []\n",
    "        title = False\n",
    "        \n",
    "        for line in query_file:\n",
    "            decoded_line = line.decode(\"utf-8\")\n",
    "            \n",
    "            if title and not \"</title>\" in decoded_line:\n",
    "                titles.append(decoded_line.replace(\"\\n\", \"\").strip())\n",
    "\n",
    "            if \"<title>\" in decoded_line:\n",
    "                title = True\n",
    "            \n",
    "            if \"</title>\" in decoded_line:\n",
    "                title = False\n",
    "                \n",
    "            if \"<num>\" in decoded_line:\n",
    "                num = decoded_line.replace(\"<num>\", \"\").replace(\"</num>\", \"\").replace(\"\\n\", \"\").replace(\"Number: \", \"\").strip()\n",
    "                numbers.append(num)\n",
    "        \n",
    "        queries = list(zip(titles, numbers))\n",
    "        return queries \n",
    "\n",
    "        \n",
    "    def addResults(self, results_formatted, results, query, number):\n",
    "        count = 0\n",
    "        for hit in results:\n",
    "            current_result = str(number) + \" 0 \"                    \n",
    "            current_result = str(current_result) + str(hit.docnum) + \" \" + str(hit.score)           \n",
    "            results_formatted.append(current_result)\n",
    "            count += 1\n",
    "        print(\"for query {} there are {} hits\".format(query, count))\n",
    "        return results_formatted\n",
    "        \n",
    "        \n",
    "    def writeResults(self, results):\n",
    "        \n",
    "        with open(\"results.txt\", \"w\") as results_file:\n",
    "            for result in results:\n",
    "                results_file.write(result + \"\\n\")\n",
    "                \n",
    "    \n",
    "    def compareResults(self):        \n",
    "        # read in results.txt\n",
    "        predictions = []\n",
    "        with open(\"results.txt\", \"r\") as results_file:\n",
    "            for line in results_file:\n",
    "                current_result = line.split(\" \")\n",
    "                current_result = [i.strip(\"\\n\") for i in current_result]\n",
    "                \n",
    "                predictions.append(current_result)\n",
    "                \n",
    "        # read in true scores file\n",
    "        true_scores = []\n",
    "        true_scores_url = \"https://trec.nist.gov/data/core/qrels2018.txt\"\n",
    "        true_scores_file = urllib.request.urlopen(true_scores_url)\n",
    "\n",
    "        for line in true_scores_file:\n",
    "            decoded_line = line.decode(\"utf-8\")\n",
    "            decoded_line = decoded_line.split(\" \")\n",
    "            decoded_line = [i.strip(\"\\n\") for i in decoded_line]\n",
    "            \n",
    "            true_scores.append(decoded_line)\n",
    "        \n",
    "        \n",
    "        # compare results.txt (preds) with true scores\n",
    "        correct_preds, incorrect_preds = 0, 0\n",
    "        \n",
    "        for pred in predictions:\n",
    "            for true_score in true_scores:\n",
    "                \n",
    "                if pred[0] == true_score[0] and pred[2] == true_score[2]:\n",
    "                    if pred[3] == true_score[3]:\n",
    "                        correct_preds += 1\n",
    "                    else:\n",
    "                        incorrect_preds += 1\n",
    "                        \n",
    "                    break\n",
    "                    \n",
    "        if correct_preds == incorrect_preds == 0:\n",
    "            print(\"No matches found, because doc id's do not yet work\")\n",
    "\n",
    "        else:\n",
    "            print(\"Performance: {:.2f}%\".format(correct_preds/(correct_preds+incorrect_preds)))\n",
    "        \n"
   ]
  },
  {
   "cell_type": "code",
   "execution_count": 4,
   "metadata": {},
   "outputs": [],
   "source": [
    "##################################################\n",
    "class UserInterface:\n",
    "    '''Class used to handle user interaction'''\n",
    "    # TODOS:\n",
    "    # implement method that asks used if \n",
    "    # implement methods that asks the user to set different options\n",
    "          \n",
    "    def __init__(self):\n",
    "        '''This is the constructor method of the UI'''\n",
    "        print(\"UserInterface has been initiated.\")       \n",
    "        \n",
    "    def getUserQuery(self):\n",
    "        ''''Retrieves the query from the user and returns it'''\n",
    "        userInput = input(\"Please enter a query: \")\n",
    "        return userInput\n",
    "    \n",
    "    def indexAlreadyCreated(self, directory_location):\n",
    "        print(\"Index is set.\")\n",
    "        print(\"Index files are stored in directory:\" + directory_location)\n",
    "        return\n",
    "    \n",
    "    def shouldCreateIndex(self):\n",
    "        print(\"Do you wish to create a new index?\")\n",
    "        userInput = input(\"Answer [y/n]: \")\n",
    "        if userInput == ('y' or 'Y' or \"yes\"):\n",
    "            return True\n",
    "        return False\n",
    "    \n",
    "    def indexIsNotSet(self):\n",
    "        print(\"Index has not been set.\")\n",
    "        return\n",
    "    \n",
    "    def getIndexDirectory(self, default_directory):\n",
    "        userInput = input(\"Please enter a directory name for the index (default = /\"+ default_directory + \"): \")\n",
    "        if userInput == \"\":\n",
    "            return default_directory\n",
    "        return userInput\n",
    "    \n",
    "    def getDataPath(self, default_data_path):\n",
    "        print(\"Please enter the path to the TREC_Washington_Post_collection.v2.jl file.\")\n",
    "        print(\"The default location is: /\"+ default_data_path + \"): \")\n",
    "        userInput = input()\n",
    "        if userInput == \"\":\n",
    "            return default_data_path\n",
    "        return userInput\n",
    "    \n",
    "    def creatingIndex(self, index_directory, data_path):\n",
    "        pass\n",
    "    \n",
    "    def shouldAddExistingIndex(self):\n",
    "        print(\"Do you wish to add an existing index?\")\n",
    "        userInput = input(\"Answer [y/n]: \")\n",
    "        if userInput == ('y' or 'Y' or \"yes\"):\n",
    "            return True\n",
    "        return False\n",
    "    \n",
    "    def stopSearchEngine(self):\n",
    "        print(\"Search Engine is stopped.\")\n",
    "        \n",
    "    def shouldTerminateSearchEngine(self):\n",
    "        print(\"Do you wish to stop the search engine?\")\n",
    "        userInput = input(\"Answer [y/n]: \")\n",
    "        if userInput == ('y' or 'Y' or \"yes\"):\n",
    "            return True\n",
    "        return False\n",
    "    \n",
    "    def printResults(self, results):\n",
    "        print(\"\\nPrinting results:\")\n",
    "        for result in results:\n",
    "            print(result)\n",
    "    "
   ]
  },
  {
   "cell_type": "code",
   "execution_count": 5,
   "metadata": {},
   "outputs": [],
   "source": [
    "# Block used to run everything:\n",
    "# TODO expand this 'Controll' class that handles information flow\n",
    "# TODO add querying functionality\n",
    "# TODO implement choice of search algorithm\n",
    "# TODO implement evaluation mode\n",
    "import time\n",
    "\n",
    "class SearchEngine:\n",
    "    '''This class embodies the search engine and acts a a controller class'''\n",
    "    \n",
    "    UI = None\n",
    "    Indexer = None\n",
    "    Ranking = None\n",
    "    \n",
    "    RUNNING = False\n",
    "    STOPPED = False\n",
    "    EVALUATION_MODE = True\n",
    "    USER_MODE = False\n",
    "    \n",
    "    user_query = \"\"\n",
    "    DEFAULT_data_path = 'WP-corpus/data/TREC_Washington_Post_collection.v2.jl'\n",
    "    DEFAULT_index_directory = \"indexdir\"\n",
    "    \n",
    "    \n",
    "    def __init__(self):\n",
    "        print(\"Search Engine has been initiated.\")\n",
    "    \n",
    "    def stopSearchEngine(self, UI):\n",
    "        self.RUNNING = False\n",
    "        UI.stopSearchEngine()        \n",
    "        \n",
    "    def setIndex(self, Indexer, UI):\n",
    "        if Indexer.indexCreated():\n",
    "            directory_location = Indexer.getIndexLocation()\n",
    "            UI.indexAlreadyCreated(directory_location)\n",
    "            return\n",
    "        else:\n",
    "            UI.indexIsNotSet()\n",
    "            if UI.shouldCreateIndex(): # This is for creating a new index\n",
    "                # Index directory (setDir)\n",
    "                index_directory = UI.getIndexDirectory(self.DEFAULT_index_directory)\n",
    "                Indexer.setIndexDirectory(index_directory)\n",
    "                # Check if index_dir exist and makes one if it doesn't\n",
    "                if not os.path.exists(index_directory):\n",
    "                    os.mkdir(index_directory)\n",
    "                \n",
    "                # Data file path (setPath)    \n",
    "                data_path = UI.getDataPath(self.DEFAULT_data_path)\n",
    "                Indexer.setDataPath(data_path)\n",
    "                \n",
    "                # Creating Index\n",
    "                UI.creatingIndex(index_directory, data_path)\n",
    "                Indexer.index()\n",
    "                return\n",
    "                \n",
    "            elif UI.shouldAddExistingIndex(): # This is for adding an existing index\n",
    "                \n",
    "                # TODO communicate chosen directories and chosen data file\n",
    "                # TODO add checks to check for existence of index?\n",
    "                \n",
    "                # Index directory, duplicate code -> (setDir)\n",
    "                index_directory = UI.getIndexDirectory(self.DEFAULT_index_directory)\n",
    "                Indexer.setIndexDirectory(index_directory)\n",
    "                # Check if index_dir exist and makes one if it doesn't\n",
    "                if not os.path.exists(index_directory):\n",
    "                    os.mkdir(index_directory)\n",
    "                \n",
    "                # Data file path, duplicate code -> (setPath)    \n",
    "                data_path = UI.getDataPath(self.DEFAULT_data_path)\n",
    "                Indexer.setDataPath(data_path)\n",
    "                \n",
    "                # Set index created to true\n",
    "                Indexer.setIndexCreatedTrue()\n",
    "                return\n",
    "                                \n",
    "            else: # TODO: Ask if the user wants to continue or stop\n",
    "                if UI.shouldTerminateSearchEngine(): \n",
    "                    self.STOPPED = True\n",
    "                return\n",
    "            return\n",
    "       \n",
    "    def run(self):\n",
    "        '''This function start the search engine'''\n",
    "        print('Search Engine started.')\n",
    "        \n",
    "        self.UI = UserInterface()\n",
    "        self.Indexer = Indexer()\n",
    "        self.Ranking = Ranking()\n",
    "                \n",
    "        self.RUNNING = True\n",
    "        while self.RUNNING:\n",
    "            if not self.Indexer.indexCreated():\n",
    "                #TODO Inform user that an index needs to be set\n",
    "                self.setIndex(self.Indexer, self.UI)\n",
    "                if self.STOPPED == True: # Stop SE if user did not want to continue\n",
    "                    self.stopSearchEngine(self.UI)\n",
    "                    break\n",
    "            #TODO ask user to choose a mode\n",
    "                       \n",
    "            if self.EVALUATION_MODE:\n",
    "            # This is used to evaluate SE against the TREC relevance judgements\n",
    "                index_dir = self.Indexer.getIndexLocation()\n",
    "                self.Ranking.setIndexDirectory(index_dir)\n",
    "                \n",
    "                evaluation = Evaluation()\n",
    "                queries  = evaluation.load_queries()\n",
    "                print(\"Queries loaded\")\n",
    "                \n",
    "                results_formatted = []\n",
    "                \n",
    "                for (query, number) in tqdm(queries):\n",
    "                    #results = self.Ranking.searchTermFrequencyReturnResults(query)\n",
    "                    results = self.Ranking.searchBM25FReturnResults(query)\n",
    "                    results_formatted = evaluation.addResults(results_formatted, results, query, number)\n",
    "                \n",
    "                evaluation.writeResults(results_formatted)\n",
    "                evaluation.compareResults()    \n",
    "                \n",
    "                print(\"Done\")\n",
    "                self.RUNNING = False\n",
    " \n",
    "            if self.USER_MODE:\n",
    "                # This is used to query questions\n",
    "                #TODO ask for search algorithm\n",
    "                #TODO ask for user query\n",
    "                #TODO move printing results to UI\n",
    "                print(\"Entering USER_MODE\")\n",
    "                user_query = self.UI.getUserQuery()\n",
    "                print(\"Entered query: \" + user_query)\n",
    "                \n",
    "\n",
    "                results = self.Ranking.searchTermFrequency(user_query, self.Indexer)\n",
    "                self.UI.printResults(results)\n",
    "                \n",
    "            print(\"Starting over.\")\n",
    "            time.sleep(1)"
   ]
  },
  {
   "cell_type": "code",
   "execution_count": 6,
   "metadata": {},
   "outputs": [
    {
     "name": "stdout",
     "output_type": "stream",
     "text": [
      "Search Engine has been initiated.\n",
      "Search Engine started.\n",
      "UserInterface has been initiated.\n",
      "Indexer has been initiated.\n",
      "Ranking class has been initiated.\n",
      "Index has not been set.\n",
      "Do you wish to create a new index?\n",
      "Answer [y/n]: y\n",
      "Please enter a directory name for the index (default = /indexdir): \n",
      "Please enter the path to the TREC_Washington_Post_collection.v2.jl file.\n",
      "The default location is: /WP-corpus/data/TREC_Washington_Post_collection.v2.jl): \n",
      "\n"
     ]
    },
    {
     "name": "stderr",
     "output_type": "stream",
     "text": [
      "\r",
      "0it [00:00, ?it/s]"
     ]
    },
    {
     "name": "stdout",
     "output_type": "stream",
     "text": [
      "Looping over data. Indexing each article.\n",
      "This might take a few minutes...\n"
     ]
    },
    {
     "name": "stderr",
     "output_type": "stream",
     "text": [
      "6it [00:00,  2.37it/s]"
     ]
    },
    {
     "name": "stdout",
     "output_type": "stream",
     "text": [
      "Could not retreive content\n",
      "Could not retreive content\n",
      "Could not retreive content\n",
      "Could not retreive content\n",
      "Could not retreive content\n",
      "Could not retreive content\n",
      "Could not retreive content\n",
      "Could not retreive content\n",
      "Could not retreive content\n"
     ]
    },
    {
     "name": "stderr",
     "output_type": "stream",
     "text": [
      "15it [00:00,  4.49it/s]"
     ]
    },
    {
     "name": "stdout",
     "output_type": "stream",
     "text": [
      "Could not retreive content\n",
      "Could not retreive content\n",
      "Could not retreive content\n",
      "Could not retreive content\n",
      "Could not retreive content\n",
      "Could not retreive content\n",
      "Could not retreive content\n",
      "Could not retreive content\n"
     ]
    },
    {
     "name": "stderr",
     "output_type": "stream",
     "text": [
      "22it [00:01,  7.91it/s]"
     ]
    },
    {
     "name": "stdout",
     "output_type": "stream",
     "text": [
      "Could not retreive content\n",
      "Could not retreive content\n",
      "Could not retreive content\n",
      "Could not retreive content\n",
      "Could not retreive content\n",
      "Could not retreive content\n",
      "Could not retreive content\n",
      "Could not retreive content\n",
      "Could not retreive content\n",
      "Could not retreive content\n"
     ]
    },
    {
     "name": "stderr",
     "output_type": "stream",
     "text": [
      "37it [00:01, 14.39it/s]"
     ]
    },
    {
     "name": "stdout",
     "output_type": "stream",
     "text": [
      "Could not retreive content\n",
      "Could not retreive content\n",
      "Could not retreive content\n",
      "Could not retreive content\n",
      "Could not retreive content\n",
      "Could not retreive content\n",
      "Could not retreive content\n",
      "Could not retreive content\n",
      "Could not retreive content\n",
      "Could not retreive content\n",
      "Could not retreive content\n",
      "Could not retreive content\n",
      "Could not retreive content\n",
      "Could not retreive content\n",
      "Could not retreive content\n",
      "Could not retreive content\n",
      "Could not retreive content\n"
     ]
    },
    {
     "name": "stderr",
     "output_type": "stream",
     "text": [
      "54it [00:01, 24.00it/s]"
     ]
    },
    {
     "name": "stdout",
     "output_type": "stream",
     "text": [
      "Could not retreive content\n",
      "Could not retreive content\n",
      "Could not retreive content\n",
      "Could not retreive content\n",
      "Could not retreive content\n",
      "Could not retreive content\n",
      "Could not retreive content\n",
      "Could not retreive content\n",
      "Could not retreive content\n",
      "Could not retreive content\n",
      "Could not retreive content\n",
      "Could not retreive content"
     ]
    },
    {
     "name": "stderr",
     "output_type": "stream",
     "text": [
      "\r",
      "61it [00:01, 27.76it/s]"
     ]
    },
    {
     "name": "stdout",
     "output_type": "stream",
     "text": [
      "\n",
      "Could not retreive content\n",
      "Could not retreive content\n",
      "Could not retreive content\n",
      "Could not retreive content\n",
      "Could not retreive content\n",
      "Could not retreive content\n"
     ]
    },
    {
     "name": "stderr",
     "output_type": "stream",
     "text": [
      "\r",
      "67it [00:02, 26.23it/s]"
     ]
    },
    {
     "name": "stdout",
     "output_type": "stream",
     "text": [
      "Could not retreive content\n",
      "Could not retreive content\n",
      "Could not retreive content\n",
      "Could not retreive content\n",
      "Could not retreive content\n",
      "Could not retreive content\n",
      "Could not retreive content\n",
      "Could not retreive content\n",
      "Could not retreive content\n",
      "Could not retreive content\n",
      "Could not retreive content\n",
      "Could not retreive content\n",
      "Could not retreive content\n",
      "Could not retreive content\n",
      "Could not retreive content"
     ]
    },
    {
     "name": "stderr",
     "output_type": "stream",
     "text": [
      "86it [00:02, 40.51it/s]"
     ]
    },
    {
     "name": "stdout",
     "output_type": "stream",
     "text": [
      "\n",
      "Could not retreive content\n",
      "Could not retreive content\n",
      "Could not retreive content\n",
      "Could not retreive content\n",
      "Could not retreive content\n",
      "Could not retreive content\n",
      "Could not retreive content\n",
      "Could not retreive content\n",
      "Could not retreive content\n",
      "Could not retreive content\n",
      "Could not retreive content\n",
      "Could not retreive content"
     ]
    },
    {
     "name": "stderr",
     "output_type": "stream",
     "text": [
      "101it [00:02, 51.18it/s]"
     ]
    },
    {
     "name": "stdout",
     "output_type": "stream",
     "text": [
      "\n",
      "Could not retreive content\n",
      "Could not retreive content\n",
      "Could not retreive content\n",
      "Could not retreive content\n",
      "Could not retreive content\n",
      "Could not retreive content\n",
      "Could not retreive content\n",
      "Could not retreive content\n",
      "Could not retreive content\n",
      "Could not retreive content\n",
      "Could not retreive content\n",
      "Could not retreive content\n",
      "Could not retreive content\n",
      "Could not retreive content\n",
      "Could not retreive content"
     ]
    },
    {
     "name": "stderr",
     "output_type": "stream",
     "text": [
      "118it [00:02, 62.82it/s]"
     ]
    },
    {
     "name": "stdout",
     "output_type": "stream",
     "text": [
      "\n",
      "Could not retreive content\n",
      "Could not retreive content\n",
      "Could not retreive content\n",
      "Could not retreive content\n",
      "Could not retreive content\n",
      "Could not retreive content\n",
      "Could not retreive content\n",
      "Could not retreive content\n",
      "Could not retreive content\n",
      "Could not retreive content\n",
      "Could not retreive content\n",
      "Could not retreive content\n",
      "Could not retreive content\n",
      "Could not retreive content\n",
      "Could not retreive content"
     ]
    },
    {
     "name": "stderr",
     "output_type": "stream",
     "text": [
      "\r",
      "126it [00:02, 65.62it/s]"
     ]
    },
    {
     "name": "stdout",
     "output_type": "stream",
     "text": [
      "\n",
      "Could not retreive content\n",
      "Could not retreive content\n",
      "Could not retreive content\n",
      "Could not retreive content\n",
      "Could not retreive content\n",
      "Could not retreive content\n",
      "Could not retreive content\n",
      "Could not retreive content\n",
      "Could not retreive content\n",
      "Could not retreive content\n",
      "Could not retreive content\n",
      "Could not retreive content\n",
      "Could not retreive content\n",
      "Could not retreive content\n",
      "Could not retreive content\n",
      "Could not retreive content\n",
      "Could not retreive content\n"
     ]
    },
    {
     "name": "stderr",
     "output_type": "stream",
     "text": [
      "144it [00:03, 73.19it/s]"
     ]
    },
    {
     "name": "stdout",
     "output_type": "stream",
     "text": [
      "Could not retreive content\n",
      "Could not retreive content\n",
      "Could not retreive content\n",
      "Could not retreive content\n",
      "Could not retreive content\n",
      "Could not retreive content\n",
      "Could not retreive content\n",
      "Could not retreive content\n",
      "Could not retreive content\n",
      "Could not retreive content\n",
      "Could not retreive content\n",
      "Could not retreive content\n",
      "Could not retreive content\n",
      "Could not retreive content\n",
      "Could not retreive content\n",
      "Could not retreive content\n",
      "Could not retreive content"
     ]
    },
    {
     "name": "stderr",
     "output_type": "stream",
     "text": [
      "163it [00:03, 78.27it/s]"
     ]
    },
    {
     "name": "stdout",
     "output_type": "stream",
     "text": [
      "\n",
      "Could not retreive content\n",
      "Could not retreive content\n",
      "Could not retreive content\n",
      "Could not retreive content\n",
      "Could not retreive content\n",
      "Could not retreive content\n",
      "Could not retreive content\n",
      "Could not retreive content\n",
      "Could not retreive content\n",
      "Could not retreive content\n",
      "Could not retreive content\n",
      "Could not retreive content\n",
      "Could not retreive content\n",
      "Could not retreive content\n",
      "Could not retreive content\n"
     ]
    },
    {
     "name": "stderr",
     "output_type": "stream",
     "text": [
      "180it [00:03, 74.95it/s]"
     ]
    },
    {
     "name": "stdout",
     "output_type": "stream",
     "text": [
      "Could not retreive content\n",
      "Could not retreive content\n",
      "Could not retreive content\n",
      "Could not retreive content\n",
      "Could not retreive content\n",
      "Could not retreive content\n",
      "Could not retreive content\n",
      "Could not retreive content\n",
      "Could not retreive content\n",
      "Could not retreive content\n",
      "Could not retreive content\n",
      "Could not retreive content\n",
      "Could not retreive content\n"
     ]
    },
    {
     "name": "stderr",
     "output_type": "stream",
     "text": [
      "\r",
      "188it [00:03, 70.56it/s]"
     ]
    },
    {
     "name": "stdout",
     "output_type": "stream",
     "text": [
      "Could not retreive content\n",
      "Could not retreive content\n",
      "Could not retreive content\n",
      "Could not retreive content\n",
      "Could not retreive content\n",
      "Could not retreive content\n",
      "Could not retreive content\n",
      "Could not retreive content\n",
      "Could not retreive content\n",
      "Could not retreive content\n",
      "Could not retreive content\n",
      "Could not retreive content\n",
      "Could not retreive content\n",
      "Could not retreive content\n",
      "Could not retreive content"
     ]
    },
    {
     "name": "stderr",
     "output_type": "stream",
     "text": [
      "206it [00:03, 75.81it/s]"
     ]
    },
    {
     "name": "stdout",
     "output_type": "stream",
     "text": [
      "\n",
      "Could not retreive content\n",
      "Could not retreive content\n",
      "Could not retreive content\n",
      "Could not retreive content\n",
      "Could not retreive content\n",
      "Could not retreive content\n",
      "Could not retreive content\n",
      "Could not retreive content\n",
      "Could not retreive content\n",
      "Could not retreive content\n",
      "Could not retreive content\n",
      "Could not retreive content\n",
      "Could not retreive content\n",
      "Could not retreive content\n",
      "Could not retreive content"
     ]
    },
    {
     "name": "stderr",
     "output_type": "stream",
     "text": [
      "224it [00:04, 78.16it/s]"
     ]
    },
    {
     "name": "stdout",
     "output_type": "stream",
     "text": [
      "\n",
      "Could not retreive content\n",
      "Could not retreive content\n",
      "Could not retreive content\n",
      "Could not retreive content\n",
      "Could not retreive content\n",
      "Could not retreive content\n",
      "Could not retreive content\n",
      "Could not retreive content\n",
      "Could not retreive content\n",
      "Could not retreive content\n",
      "Could not retreive content\n",
      "Could not retreive content\n",
      "Could not retreive content\n",
      "Could not retreive content\n",
      "Could not retreive content\n"
     ]
    },
    {
     "name": "stderr",
     "output_type": "stream",
     "text": [
      "247it [00:04, 92.48it/s]"
     ]
    },
    {
     "name": "stdout",
     "output_type": "stream",
     "text": [
      "Could not retreive content\n",
      "Could not retreive content\n",
      "Could not retreive content\n",
      "Could not retreive content\n",
      "Could not retreive content\n",
      "Could not retreive content\n",
      "Could not retreive content\n",
      "Could not retreive content\n",
      "Could not retreive content\n",
      "Could not retreive content\n",
      "Could not retreive content\n",
      "Could not retreive content\n",
      "Could not retreive content\n",
      "Could not retreive content\n",
      "Could not retreive content\n",
      "Could not retreive content\n",
      "Could not retreive content\n",
      "Could not retreive content\n",
      "Could not retreive content\n",
      "Could not retreive content\n",
      "Could not retreive content\n",
      "Could not retreive content\n",
      "Could not retreive content\n"
     ]
    },
    {
     "name": "stderr",
     "output_type": "stream",
     "text": [
      "\r",
      "257it [00:04, 80.84it/s]"
     ]
    },
    {
     "name": "stdout",
     "output_type": "stream",
     "text": [
      "Could not retreive content\n",
      "Could not retreive content\n",
      "Could not retreive content\n",
      "Could not retreive content\n",
      "Could not retreive content\n",
      "Could not retreive content\n",
      "Could not retreive content\n",
      "Could not retreive content\n",
      "Could not retreive content\n",
      "Could not retreive content\n",
      "Could not retreive content\n",
      "Could not retreive content\n",
      "Could not retreive content\n",
      "Could not retreive content\n",
      "Could not retreive content\n",
      "Could not retreive content\n"
     ]
    },
    {
     "name": "stderr",
     "output_type": "stream",
     "text": [
      "275it [00:04, 75.11it/s]"
     ]
    },
    {
     "name": "stdout",
     "output_type": "stream",
     "text": [
      "Could not retreive content\n",
      "Could not retreive content\n",
      "Could not retreive content\n",
      "Could not retreive content\n",
      "Could not retreive content\n",
      "Could not retreive content\n",
      "Could not retreive content\n",
      "Could not retreive content\n",
      "Could not retreive content\n",
      "Could not retreive content\n",
      "Could not retreive content\n",
      "Could not retreive content"
     ]
    },
    {
     "name": "stderr",
     "output_type": "stream",
     "text": [
      "\r",
      "283it [00:04, 69.75it/s]"
     ]
    },
    {
     "name": "stdout",
     "output_type": "stream",
     "text": [
      "\n",
      "Could not retreive content\n",
      "Could not retreive content\n",
      "Could not retreive content\n",
      "Could not retreive content\n",
      "Could not retreive content\n",
      "Could not retreive content\n",
      "Could not retreive content\n",
      "Could not retreive content\n",
      "Could not retreive content\n",
      "Could not retreive content\n",
      "Could not retreive content"
     ]
    },
    {
     "name": "stderr",
     "output_type": "stream",
     "text": [
      "299it [00:05, 64.24it/s]"
     ]
    },
    {
     "name": "stdout",
     "output_type": "stream",
     "text": [
      "\n",
      "Could not retreive content\n",
      "Could not retreive content\n",
      "Could not retreive content\n",
      "Could not retreive content\n",
      "Could not retreive content\n",
      "Could not retreive content\n",
      "Could not retreive content\n",
      "Could not retreive content\n",
      "Could not retreive content\n",
      "Could not retreive content\n",
      "Could not retreive content\n",
      "Could not retreive content\n",
      "Could not retreive content\n"
     ]
    },
    {
     "name": "stderr",
     "output_type": "stream",
     "text": [
      "\r",
      "309it [00:05, 69.69it/s]"
     ]
    },
    {
     "name": "stdout",
     "output_type": "stream",
     "text": [
      "Could not retreive content\n",
      "Could not retreive content\n",
      "Could not retreive content\n",
      "Could not retreive content\n",
      "Could not retreive content\n",
      "Could not retreive content\n",
      "Could not retreive content\n",
      "Could not retreive content\n",
      "Could not retreive content\n",
      "Could not retreive content\n",
      "Could not retreive content\n",
      "Could not retreive content\n",
      "Could not retreive content\n",
      "Could not retreive content\n",
      "Could not retreive content\n"
     ]
    },
    {
     "name": "stderr",
     "output_type": "stream",
     "text": [
      "325it [00:05, 70.05it/s]"
     ]
    },
    {
     "name": "stdout",
     "output_type": "stream",
     "text": [
      "Could not retreive content\n",
      "Could not retreive content\n",
      "Could not retreive content\n",
      "Could not retreive content\n",
      "Could not retreive content\n",
      "Could not retreive content\n",
      "Could not retreive content\n",
      "Could not retreive content\n",
      "Could not retreive content\n",
      "Could not retreive content\n",
      "Could not retreive content\n",
      "Could not retreive content\n",
      "Could not retreive content"
     ]
    },
    {
     "name": "stderr",
     "output_type": "stream",
     "text": [
      "341it [00:05, 66.48it/s]"
     ]
    },
    {
     "name": "stdout",
     "output_type": "stream",
     "text": [
      "\n",
      "Could not retreive content\n",
      "Could not retreive content\n",
      "Could not retreive content\n",
      "Could not retreive content\n",
      "Could not retreive content\n",
      "Could not retreive content\n",
      "Could not retreive content\n",
      "Could not retreive content\n",
      "Could not retreive content\n",
      "Could not retreive content\n",
      "Could not retreive content\n",
      "Could not retreive content\n"
     ]
    },
    {
     "name": "stderr",
     "output_type": "stream",
     "text": [
      "\r",
      "348it [00:05, 60.33it/s]"
     ]
    },
    {
     "name": "stdout",
     "output_type": "stream",
     "text": [
      "Could not retreive content\n",
      "Could not retreive content\n",
      "Could not retreive content\n",
      "Could not retreive content\n",
      "Could not retreive content\n",
      "Could not retreive content\n",
      "Could not retreive content\n",
      "Could not retreive content\n",
      "Could not retreive content\n",
      "Could not retreive content\n",
      "Could not retreive content\n",
      "Could not retreive content\n",
      "Could not retreive content\n"
     ]
    },
    {
     "name": "stderr",
     "output_type": "stream",
     "text": [
      "362it [00:06, 58.08it/s]"
     ]
    },
    {
     "name": "stdout",
     "output_type": "stream",
     "text": [
      "Could not retreive content\n",
      "Could not retreive content\n",
      "Could not retreive content\n",
      "Could not retreive content\n",
      "Could not retreive content\n",
      "Could not retreive content\n",
      "Could not retreive content\n",
      "Could not retreive content\n",
      "Could not retreive content"
     ]
    },
    {
     "name": "stderr",
     "output_type": "stream",
     "text": [
      "\r",
      "368it [00:06, 47.77it/s]"
     ]
    },
    {
     "name": "stdout",
     "output_type": "stream",
     "text": [
      "\n",
      "Could not retreive content\n",
      "Could not retreive content\n",
      "Could not retreive content\n",
      "Could not retreive content\n",
      "Could not retreive content\n",
      "Could not retreive content\n",
      "Could not retreive content\n",
      "Could not retreive content\n",
      "Could not retreive content\n"
     ]
    },
    {
     "name": "stderr",
     "output_type": "stream",
     "text": [
      "392it [00:06, 65.57it/s]"
     ]
    },
    {
     "name": "stdout",
     "output_type": "stream",
     "text": [
      "Could not retreive content\n",
      "Could not retreive content\n",
      "Could not retreive content\n",
      "Could not retreive content\n",
      "Could not retreive content\n",
      "Could not retreive content\n",
      "Could not retreive content\n",
      "Could not retreive content\n",
      "Could not retreive content\n",
      "Could not retreive content\n",
      "Could not retreive content\n",
      "Could not retreive content\n",
      "Could not retreive content\n",
      "Could not retreive content\n",
      "Could not retreive content\n",
      "Could not retreive content\n",
      "Could not retreive content\n",
      "Could not retreive content\n",
      "Could not retreive content\n",
      "Could not retreive content\n",
      "Could not retreive content"
     ]
    },
    {
     "name": "stderr",
     "output_type": "stream",
     "text": [
      "\r",
      "401it [00:06, 69.20it/s]"
     ]
    },
    {
     "name": "stdout",
     "output_type": "stream",
     "text": [
      "\n",
      "Could not retreive content\n",
      "Could not retreive content\n",
      "Could not retreive content\n",
      "Could not retreive content\n",
      "Could not retreive content\n",
      "Could not retreive content\n",
      "Could not retreive content\n",
      "Could not retreive content\n",
      "Could not retreive content\n",
      "Could not retreive content\n",
      "Could not retreive content\n",
      "Could not retreive content\n",
      "Could not retreive content\n",
      "Could not retreive content\n",
      "Could not retreive content"
     ]
    },
    {
     "name": "stderr",
     "output_type": "stream",
     "text": [
      "418it [00:06, 66.44it/s]"
     ]
    },
    {
     "name": "stdout",
     "output_type": "stream",
     "text": [
      "\n",
      "Could not retreive content\n",
      "Could not retreive content\n",
      "Could not retreive content\n",
      "Could not retreive content\n",
      "Could not retreive content\n",
      "Could not retreive content\n",
      "Could not retreive content\n",
      "Could not retreive content\n",
      "Could not retreive content\n",
      "Could not retreive content\n",
      "Could not retreive content\n",
      "Could not retreive content"
     ]
    },
    {
     "name": "stderr",
     "output_type": "stream",
     "text": [
      "\r",
      "426it [00:06, 61.28it/s]"
     ]
    },
    {
     "name": "stdout",
     "output_type": "stream",
     "text": [
      "\n",
      "Could not retreive content\n",
      "Could not retreive content\n",
      "Could not retreive content\n",
      "Could not retreive content\n",
      "Could not retreive content\n",
      "Could not retreive content\n",
      "Could not retreive content\n",
      "Could not retreive content\n",
      "Could not retreive content\n",
      "Could not retreive content\n",
      "Could not retreive content\n",
      "Could not retreive content\n"
     ]
    },
    {
     "name": "stderr",
     "output_type": "stream",
     "text": [
      "440it [00:07, 62.56it/s]"
     ]
    },
    {
     "name": "stdout",
     "output_type": "stream",
     "text": [
      "Could not retreive content\n",
      "Could not retreive content\n",
      "Could not retreive content\n",
      "Could not retreive content\n",
      "Could not retreive content\n",
      "Could not retreive content\n",
      "Could not retreive content\n",
      "Could not retreive content\n",
      "Could not retreive content\n",
      "Could not retreive content\n",
      "Could not retreive content\n",
      "Could not retreive content\n",
      "Could not retreive content\n"
     ]
    },
    {
     "name": "stderr",
     "output_type": "stream",
     "text": [
      "458it [00:07, 70.99it/s]"
     ]
    },
    {
     "name": "stdout",
     "output_type": "stream",
     "text": [
      "Could not retreive content\n",
      "Could not retreive content\n",
      "Could not retreive content\n",
      "Could not retreive content\n",
      "Could not retreive content\n",
      "Could not retreive content\n",
      "Could not retreive content\n",
      "Could not retreive content\n",
      "Could not retreive content\n",
      "Could not retreive content\n",
      "Could not retreive content\n",
      "Could not retreive content\n",
      "Could not retreive content\n",
      "Could not retreive content\n",
      "Could not retreive content\n",
      "Could not retreive content\n",
      "Could not retreive content\n"
     ]
    },
    {
     "name": "stderr",
     "output_type": "stream",
     "text": [
      "474it [00:07, 63.79it/s]"
     ]
    },
    {
     "name": "stdout",
     "output_type": "stream",
     "text": [
      "Could not retreive content\n",
      "Could not retreive content\n",
      "Could not retreive content\n",
      "Could not retreive content\n",
      "Could not retreive content\n",
      "Could not retreive content\n",
      "Could not retreive content\n",
      "Could not retreive content\n",
      "Could not retreive content\n",
      "Could not retreive content\n",
      "Could not retreive content\n",
      "Could not retreive content\n",
      "Could not retreive content\n",
      "Could not retreive content\n",
      "Could not retreive content\n",
      "Could not retreive content\n",
      "Could not retreive content\n"
     ]
    },
    {
     "name": "stderr",
     "output_type": "stream",
     "text": [
      "497it [00:07, 80.56it/s]"
     ]
    },
    {
     "name": "stdout",
     "output_type": "stream",
     "text": [
      "Could not retreive content\n",
      "Could not retreive content\n",
      "Could not retreive content\n",
      "Could not retreive content\n",
      "Could not retreive content\n",
      "Could not retreive content\n",
      "Could not retreive content\n",
      "Could not retreive content\n",
      "Could not retreive content\n",
      "Could not retreive content\n",
      "Could not retreive content\n",
      "Could not retreive content\n",
      "Could not retreive content\n",
      "Could not retreive content\n",
      "Could not retreive content\n",
      "Could not retreive content\n",
      "Could not retreive content\n",
      "Could not retreive content\n",
      "Could not retreive content\n",
      "Could not retreive content\n"
     ]
    },
    {
     "name": "stderr",
     "output_type": "stream",
     "text": [
      "517it [00:08, 84.02it/s]"
     ]
    },
    {
     "name": "stdout",
     "output_type": "stream",
     "text": [
      "Could not retreive content\n",
      "Could not retreive content\n",
      "Could not retreive content\n",
      "Could not retreive content\n",
      "Could not retreive content\n",
      "Could not retreive content\n",
      "Could not retreive content\n",
      "Could not retreive content\n",
      "Could not retreive content\n",
      "Could not retreive content\n",
      "Could not retreive content\n",
      "Could not retreive content\n",
      "Could not retreive content\n",
      "Could not retreive content\n",
      "Could not retreive content\n",
      "Could not retreive content\n",
      "Could not retreive content\n",
      "Could not retreive content\n"
     ]
    },
    {
     "name": "stderr",
     "output_type": "stream",
     "text": [
      "\r",
      "526it [00:08, 79.26it/s]"
     ]
    },
    {
     "name": "stdout",
     "output_type": "stream",
     "text": [
      "Could not retreive content\n",
      "Could not retreive content\n",
      "Could not retreive content\n",
      "Could not retreive content\n",
      "Could not retreive content\n",
      "Could not retreive content\n",
      "Could not retreive content\n",
      "Could not retreive content\n",
      "Could not retreive content\n",
      "Could not retreive content\n",
      "Could not retreive content\n",
      "Could not retreive content\n",
      "Could not retreive content"
     ]
    },
    {
     "name": "stderr",
     "output_type": "stream",
     "text": [
      "\r",
      "535it [00:08, 71.10it/s]"
     ]
    },
    {
     "name": "stdout",
     "output_type": "stream",
     "text": [
      "\n",
      "Could not retreive content\n",
      "Could not retreive content\n",
      "Could not retreive content\n",
      "Could not retreive content\n",
      "Could not retreive content\n",
      "Could not retreive content\n",
      "Could not retreive content\n",
      "Could not retreive content\n",
      "Could not retreive content\n",
      "Could not retreive content\n",
      "Could not retreive content\n",
      "Could not retreive content"
     ]
    },
    {
     "name": "stderr",
     "output_type": "stream",
     "text": [
      "551it [00:08, 71.09it/s]"
     ]
    },
    {
     "name": "stdout",
     "output_type": "stream",
     "text": [
      "\n",
      "Could not retreive content\n",
      "Could not retreive content\n",
      "Could not retreive content\n",
      "Could not retreive content\n",
      "Could not retreive content\n",
      "Could not retreive content\n",
      "Could not retreive content\n",
      "Could not retreive content\n",
      "Could not retreive content\n",
      "Could not retreive content\n",
      "Could not retreive content\n",
      "Could not retreive content\n",
      "Could not retreive content\n"
     ]
    },
    {
     "name": "stderr",
     "output_type": "stream",
     "text": [
      "567it [00:08, 68.03it/s]"
     ]
    },
    {
     "name": "stdout",
     "output_type": "stream",
     "text": [
      "Could not retreive content\n",
      "Could not retreive content\n",
      "Could not retreive content\n",
      "Could not retreive content\n",
      "Could not retreive content\n",
      "Could not retreive content\n",
      "Could not retreive content\n",
      "Could not retreive content\n",
      "Could not retreive content\n",
      "Could not retreive content\n",
      "Could not retreive content\n",
      "Could not retreive content\n",
      "Could not retreive content"
     ]
    },
    {
     "name": "stderr",
     "output_type": "stream",
     "text": [
      "\r",
      "574it [00:09, 57.89it/s]"
     ]
    },
    {
     "name": "stdout",
     "output_type": "stream",
     "text": [
      "\n",
      "Could not retreive content\n",
      "Could not retreive content\n",
      "Could not retreive content\n",
      "Could not retreive content\n",
      "Could not retreive content\n",
      "Could not retreive content\n",
      "Could not retreive content\n",
      "Could not retreive content\n",
      "Could not retreive content"
     ]
    },
    {
     "name": "stderr",
     "output_type": "stream",
     "text": [
      "\r",
      "581it [00:09, 58.45it/s]"
     ]
    },
    {
     "name": "stdout",
     "output_type": "stream",
     "text": [
      "\n",
      "Could not retreive content\n",
      "Could not retreive content\n",
      "Could not retreive content\n",
      "Could not retreive content\n",
      "Could not retreive content\n",
      "Could not retreive content\n",
      "Could not retreive content\n",
      "Could not retreive content\n",
      "Could not retreive content\n",
      "Could not retreive content\n"
     ]
    },
    {
     "name": "stderr",
     "output_type": "stream",
     "text": [
      "596it [00:09, 59.23it/s]"
     ]
    },
    {
     "name": "stdout",
     "output_type": "stream",
     "text": [
      "Could not retreive content\n",
      "Could not retreive content\n",
      "Could not retreive content\n",
      "Could not retreive content\n",
      "Could not retreive content\n",
      "Could not retreive content\n",
      "Could not retreive content\n",
      "Could not retreive content\n",
      "Could not retreive content\n",
      "Could not retreive content\n",
      "Could not retreive content\n",
      "Could not retreive content"
     ]
    },
    {
     "name": "stderr",
     "output_type": "stream",
     "text": [
      "\r",
      "603it [00:09, 55.06it/s]"
     ]
    },
    {
     "name": "stdout",
     "output_type": "stream",
     "text": [
      "\n",
      "Could not retreive content\n",
      "Could not retreive content\n",
      "Could not retreive content\n",
      "Could not retreive content\n",
      "Could not retreive content\n",
      "Could not retreive content\n",
      "Could not retreive content\n",
      "Could not retreive content\n",
      "Could not retreive content\n",
      "Could not retreive content\n",
      "Could not retreive content\n"
     ]
    },
    {
     "name": "stderr",
     "output_type": "stream",
     "text": [
      "620it [00:09, 64.21it/s]"
     ]
    },
    {
     "name": "stdout",
     "output_type": "stream",
     "text": [
      "Could not retreive content\n",
      "Could not retreive content\n",
      "Could not retreive content\n",
      "Could not retreive content\n",
      "Could not retreive content\n",
      "Could not retreive content\n",
      "Could not retreive content\n",
      "Could not retreive content\n",
      "Could not retreive content\n",
      "Could not retreive content\n",
      "Could not retreive content\n",
      "Could not retreive content\n",
      "Could not retreive content\n",
      "Could not retreive content\n",
      "Could not retreive content\n",
      "Could not retreive content\n",
      "Could not retreive content\n",
      "Could not retreive content\n",
      "Could not retreive content"
     ]
    },
    {
     "name": "stderr",
     "output_type": "stream",
     "text": [
      "637it [00:10, 70.83it/s]"
     ]
    },
    {
     "name": "stdout",
     "output_type": "stream",
     "text": [
      "\n",
      "Could not retreive content\n",
      "Could not retreive content\n",
      "Could not retreive content\n",
      "Could not retreive content\n",
      "Could not retreive content\n",
      "Could not retreive content\n",
      "Could not retreive content\n",
      "Could not retreive content\n",
      "Could not retreive content\n",
      "Could not retreive content\n",
      "Could not retreive content\n",
      "Could not retreive content\n",
      "Could not retreive content\n",
      "Could not retreive content\n",
      "Could not retreive content\n"
     ]
    },
    {
     "name": "stderr",
     "output_type": "stream",
     "text": [
      "656it [00:10, 80.09it/s]"
     ]
    },
    {
     "name": "stdout",
     "output_type": "stream",
     "text": [
      "Could not retreive content\n",
      "Could not retreive content\n",
      "Could not retreive content\n",
      "Could not retreive content\n",
      "Could not retreive content\n",
      "Could not retreive content\n",
      "Could not retreive content\n",
      "Could not retreive content\n",
      "Could not retreive content\n",
      "Could not retreive content\n",
      "Could not retreive content\n",
      "Could not retreive content\n",
      "Could not retreive content\n",
      "Could not retreive content\n",
      "Could not retreive content\n",
      "Could not retreive content\n",
      "Could not retreive content"
     ]
    },
    {
     "name": "stderr",
     "output_type": "stream",
     "text": [
      "679it [00:10, 83.62it/s]"
     ]
    },
    {
     "name": "stdout",
     "output_type": "stream",
     "text": [
      "\n",
      "Could not retreive content\n",
      "Could not retreive content\n",
      "Could not retreive content\n",
      "Could not retreive content\n",
      "Could not retreive content\n",
      "Could not retreive content\n",
      "Could not retreive content\n",
      "Could not retreive content\n",
      "Could not retreive content\n",
      "Could not retreive content\n",
      "Could not retreive content\n",
      "Could not retreive content\n",
      "Could not retreive content\n",
      "Could not retreive content\n",
      "Could not retreive content\n",
      "Could not retreive content\n",
      "Could not retreive content\n",
      "Could not retreive content\n",
      "Could not retreive content\n"
     ]
    },
    {
     "name": "stderr",
     "output_type": "stream",
     "text": [
      "\r",
      "689it [00:10, 82.41it/s]"
     ]
    },
    {
     "name": "stdout",
     "output_type": "stream",
     "text": [
      "Could not retreive content\n",
      "Could not retreive content\n",
      "Could not retreive content\n",
      "Could not retreive content\n",
      "Could not retreive content\n",
      "Could not retreive content\n",
      "Could not retreive content\n",
      "Could not retreive content\n",
      "Could not retreive content\n",
      "Could not retreive content\n",
      "Could not retreive content\n",
      "Could not retreive content\n",
      "Could not retreive content\n",
      "Could not retreive content\n",
      "Could not retreive content\n",
      "Could not retreive content"
     ]
    },
    {
     "name": "stderr",
     "output_type": "stream",
     "text": [
      "707it [00:10, 79.27it/s]"
     ]
    },
    {
     "name": "stdout",
     "output_type": "stream",
     "text": [
      "\n",
      "Could not retreive content\n",
      "Could not retreive content\n",
      "Could not retreive content\n",
      "Could not retreive content\n",
      "Could not retreive content\n",
      "Could not retreive content\n",
      "Could not retreive content\n",
      "Could not retreive content\n",
      "Could not retreive content\n",
      "Could not retreive content\n",
      "Could not retreive content\n",
      "Could not retreive content\n",
      "Could not retreive content\n",
      "Could not retreive content\n",
      "Could not retreive content"
     ]
    },
    {
     "name": "stderr",
     "output_type": "stream",
     "text": [
      "\r",
      "717it [00:10, 81.39it/s]"
     ]
    },
    {
     "name": "stdout",
     "output_type": "stream",
     "text": [
      "\n",
      "Could not retreive content\n",
      "Could not retreive content\n",
      "Could not retreive content\n",
      "Could not retreive content\n",
      "Could not retreive content\n",
      "Could not retreive content\n",
      "Could not retreive content\n",
      "Could not retreive content\n",
      "Could not retreive content\n",
      "Could not retreive content\n",
      "Could not retreive content\n",
      "Could not retreive content\n"
     ]
    },
    {
     "name": "stderr",
     "output_type": "stream",
     "text": [
      "734it [00:11, 67.19it/s]"
     ]
    },
    {
     "name": "stdout",
     "output_type": "stream",
     "text": [
      "Could not retreive content\n",
      "Could not retreive content\n",
      "Could not retreive content\n",
      "Could not retreive content\n",
      "Could not retreive content\n",
      "Could not retreive content\n",
      "Could not retreive content\n",
      "Could not retreive content\n",
      "Could not retreive content\n",
      "Could not retreive content\n",
      "Could not retreive content\n",
      "Could not retreive content\n",
      "Could not retreive content"
     ]
    },
    {
     "name": "stderr",
     "output_type": "stream",
     "text": [
      "\r",
      "742it [00:11, 70.35it/s]"
     ]
    },
    {
     "name": "stdout",
     "output_type": "stream",
     "text": [
      "\n",
      "Could not retreive content\n",
      "Could not retreive content\n",
      "Could not retreive content\n",
      "Could not retreive content\n",
      "Could not retreive content\n",
      "Could not retreive content\n",
      "Could not retreive content\n",
      "Could not retreive content\n",
      "Could not retreive content\n",
      "Could not retreive content\n",
      "Could not retreive content"
     ]
    },
    {
     "name": "stderr",
     "output_type": "stream",
     "text": [
      "757it [00:11, 59.93it/s]"
     ]
    },
    {
     "name": "stdout",
     "output_type": "stream",
     "text": [
      "\n",
      "Could not retreive content\n",
      "Could not retreive content\n",
      "Could not retreive content\n",
      "Could not retreive content\n",
      "Could not retreive content\n",
      "Could not retreive content\n",
      "Could not retreive content\n",
      "Could not retreive content\n",
      "Could not retreive content\n",
      "Could not retreive content\n",
      "Could not retreive content\n"
     ]
    },
    {
     "name": "stderr",
     "output_type": "stream",
     "text": [
      "773it [00:11, 67.28it/s]"
     ]
    },
    {
     "name": "stdout",
     "output_type": "stream",
     "text": [
      "Could not retreive content\n",
      "Could not retreive content\n",
      "Could not retreive content\n",
      "Could not retreive content\n",
      "Could not retreive content\n",
      "Could not retreive content\n",
      "Could not retreive content\n",
      "Could not retreive content\n",
      "Could not retreive content\n",
      "Could not retreive content\n",
      "Could not retreive content\n",
      "Could not retreive content\n",
      "Could not retreive content\n",
      "Could not retreive content\n",
      "Could not retreive content\n",
      "Could not retreive content"
     ]
    },
    {
     "name": "stderr",
     "output_type": "stream",
     "text": [
      "\r",
      "781it [00:11, 69.14it/s]"
     ]
    },
    {
     "name": "stdout",
     "output_type": "stream",
     "text": [
      "\n",
      "Could not retreive content\n",
      "Could not retreive content\n",
      "Could not retreive content\n",
      "Could not retreive content\n",
      "Could not retreive content\n",
      "Could not retreive content\n",
      "Could not retreive content\n",
      "Could not retreive content\n",
      "Could not retreive content\n",
      "Could not retreive content\n",
      "Could not retreive content\n",
      "Could not retreive content\n",
      "Could not retreive content\n",
      "Could not retreive content\n",
      "Could not retreive content\n"
     ]
    },
    {
     "name": "stderr",
     "output_type": "stream",
     "text": [
      "799it [00:12, 75.46it/s]"
     ]
    },
    {
     "name": "stdout",
     "output_type": "stream",
     "text": [
      "Could not retreive content\n",
      "Could not retreive content\n",
      "Could not retreive content\n",
      "Could not retreive content\n",
      "Could not retreive content\n",
      "Could not retreive content\n",
      "Could not retreive content\n",
      "Could not retreive content\n",
      "Could not retreive content\n",
      "Could not retreive content\n",
      "Could not retreive content\n",
      "Could not retreive content\n",
      "Could not retreive content\n",
      "Could not retreive content\n",
      "Could not retreive content\n",
      "Could not retreive content\n",
      "Could not retreive content\n",
      "Could not retreive content\n"
     ]
    },
    {
     "name": "stderr",
     "output_type": "stream",
     "text": [
      "821it [00:12, 86.72it/s]"
     ]
    },
    {
     "name": "stdout",
     "output_type": "stream",
     "text": [
      "Could not retreive content\n",
      "Could not retreive content\n",
      "Could not retreive content\n",
      "Could not retreive content\n",
      "Could not retreive content\n",
      "Could not retreive content\n",
      "Could not retreive content\n",
      "Could not retreive content\n",
      "Could not retreive content\n",
      "Could not retreive content\n",
      "Could not retreive content\n",
      "Could not retreive content\n",
      "Could not retreive content\n",
      "Could not retreive content\n",
      "Could not retreive content\n",
      "Could not retreive content\n",
      "Could not retreive content\n",
      "Could not retreive content\n",
      "Could not retreive content\n",
      "Could not retreive content\n",
      "Could not retreive content"
     ]
    },
    {
     "name": "stderr",
     "output_type": "stream",
     "text": [
      "840it [00:12, 80.70it/s]"
     ]
    },
    {
     "name": "stdout",
     "output_type": "stream",
     "text": [
      "\n",
      "Could not retreive content\n",
      "Could not retreive content\n",
      "Could not retreive content\n",
      "Could not retreive content\n",
      "Could not retreive content\n",
      "Could not retreive content\n",
      "Could not retreive content\n",
      "Could not retreive content\n",
      "Could not retreive content\n",
      "Could not retreive content\n",
      "Could not retreive content\n",
      "Could not retreive content\n",
      "Could not retreive content\n",
      "Could not retreive content\n",
      "Could not retreive content"
     ]
    },
    {
     "name": "stderr",
     "output_type": "stream",
     "text": [
      "\r",
      "849it [00:12, 81.04it/s]"
     ]
    },
    {
     "name": "stdout",
     "output_type": "stream",
     "text": [
      "\n",
      "Could not retreive content\n",
      "Could not retreive content\n",
      "Could not retreive content\n",
      "Could not retreive content\n",
      "Could not retreive content\n",
      "Could not retreive content\n",
      "Could not retreive content\n",
      "Could not retreive content\n",
      "Could not retreive content\n",
      "Could not retreive content\n",
      "Could not retreive content\n",
      "Could not retreive content\n",
      "Could not retreive content"
     ]
    },
    {
     "name": "stderr",
     "output_type": "stream",
     "text": [
      "866it [00:13, 73.15it/s]"
     ]
    },
    {
     "name": "stdout",
     "output_type": "stream",
     "text": [
      "\n",
      "Could not retreive content\n",
      "Could not retreive content\n",
      "Could not retreive content\n",
      "Could not retreive content\n",
      "Could not retreive content\n",
      "Could not retreive content\n",
      "Could not retreive content\n",
      "Could not retreive content\n",
      "Could not retreive content\n",
      "Could not retreive content\n",
      "Could not retreive content\n",
      "Could not retreive content\n",
      "Could not retreive content"
     ]
    },
    {
     "name": "stderr",
     "output_type": "stream",
     "text": [
      "\r",
      "874it [00:13, 68.92it/s]"
     ]
    },
    {
     "name": "stdout",
     "output_type": "stream",
     "text": [
      "\n",
      "Could not retreive content\n",
      "Could not retreive content\n",
      "Could not retreive content\n",
      "Could not retreive content\n",
      "Could not retreive content\n",
      "Could not retreive content\n",
      "Could not retreive content\n",
      "Could not retreive content\n",
      "Could not retreive content\n",
      "Could not retreive content\n",
      "Could not retreive content\n",
      "Could not retreive content\n"
     ]
    },
    {
     "name": "stderr",
     "output_type": "stream",
     "text": [
      "889it [00:13, 67.81it/s]"
     ]
    },
    {
     "name": "stdout",
     "output_type": "stream",
     "text": [
      "Could not retreive content\n",
      "Could not retreive content\n",
      "Could not retreive content\n",
      "Could not retreive content\n",
      "Could not retreive content\n",
      "Could not retreive content\n",
      "Could not retreive content\n",
      "Could not retreive content\n",
      "Could not retreive content\n",
      "Could not retreive content\n",
      "Could not retreive content\n",
      "Could not retreive content\n",
      "Could not retreive content"
     ]
    },
    {
     "name": "stderr",
     "output_type": "stream",
     "text": [
      "904it [00:13, 69.81it/s]"
     ]
    },
    {
     "name": "stdout",
     "output_type": "stream",
     "text": [
      "\n",
      "Could not retreive content\n",
      "Could not retreive content\n",
      "Could not retreive content\n",
      "Could not retreive content\n",
      "Could not retreive content\n",
      "Could not retreive content\n",
      "Could not retreive content\n",
      "Could not retreive content\n",
      "Could not retreive content\n",
      "Could not retreive content\n",
      "Could not retreive content\n",
      "Could not retreive content\n",
      "Could not retreive content\n",
      "Could not retreive content\n",
      "Could not retreive content\n"
     ]
    },
    {
     "name": "stderr",
     "output_type": "stream",
     "text": [
      "923it [00:13, 76.85it/s]"
     ]
    },
    {
     "name": "stdout",
     "output_type": "stream",
     "text": [
      "Could not retreive content\n",
      "Could not retreive content\n",
      "Could not retreive content\n",
      "Could not retreive content\n",
      "Could not retreive content\n",
      "Could not retreive content\n",
      "Could not retreive content\n",
      "Could not retreive content\n",
      "Could not retreive content\n",
      "Could not retreive content\n",
      "Could not retreive content\n",
      "Could not retreive content\n",
      "Could not retreive content\n",
      "Could not retreive content\n",
      "Could not retreive content\n",
      "Could not retreive content\n",
      "Could not retreive content\n",
      "Could not retreive content\n",
      "Could not retreive content\n",
      "Could not retreive content\n"
     ]
    },
    {
     "name": "stderr",
     "output_type": "stream",
     "text": [
      "946it [00:14, 87.22it/s]"
     ]
    },
    {
     "name": "stdout",
     "output_type": "stream",
     "text": [
      "Could not retreive content\n",
      "Could not retreive content\n",
      "Could not retreive content\n",
      "Could not retreive content\n",
      "Could not retreive content\n",
      "Could not retreive content\n",
      "Could not retreive content\n",
      "Could not retreive content\n",
      "Could not retreive content\n",
      "Could not retreive content\n",
      "Could not retreive content\n",
      "Could not retreive content\n",
      "Could not retreive content\n",
      "Could not retreive content\n",
      "Could not retreive content\n",
      "Could not retreive content\n",
      "Could not retreive content\n"
     ]
    },
    {
     "name": "stderr",
     "output_type": "stream",
     "text": [
      "\r",
      "957it [00:14, 90.84it/s]"
     ]
    },
    {
     "name": "stdout",
     "output_type": "stream",
     "text": [
      "Could not retreive content\n",
      "Could not retreive content\n",
      "Could not retreive content\n",
      "Could not retreive content\n",
      "Could not retreive content\n",
      "Could not retreive content\n",
      "Could not retreive content\n",
      "Could not retreive content\n",
      "Could not retreive content\n",
      "Could not retreive content\n",
      "Could not retreive content\n",
      "Could not retreive content\n",
      "Could not retreive content\n",
      "Could not retreive content\n",
      "Could not retreive content\n",
      "Could not retreive content\n",
      "Could not retreive content\n",
      "Could not retreive content\n"
     ]
    },
    {
     "name": "stderr",
     "output_type": "stream",
     "text": [
      "970it [00:14, 67.54it/s]"
     ]
    },
    {
     "name": "stdout",
     "output_type": "stream",
     "text": [
      "Could not retreive content\n",
      "Could not retreive content\n",
      "Could not retreive content\n",
      "Could not retreive content\n",
      "Could not retreive content\n",
      "Could not retreive content\n"
     ]
    },
    {
     "name": "stderr",
     "output_type": "stream",
     "text": [
      "\n"
     ]
    },
    {
     "ename": "KeyboardInterrupt",
     "evalue": "",
     "output_type": "error",
     "traceback": [
      "\u001b[1;31m---------------------------------------------------------------------------\u001b[0m",
      "\u001b[1;31mKeyboardInterrupt\u001b[0m                         Traceback (most recent call last)",
      "\u001b[1;32m<ipython-input-6-9576531135ed>\u001b[0m in \u001b[0;36m<module>\u001b[1;34m\u001b[0m\n\u001b[0;32m      1\u001b[0m \u001b[0mmySearchEngine\u001b[0m \u001b[1;33m=\u001b[0m \u001b[0mSearchEngine\u001b[0m\u001b[1;33m(\u001b[0m\u001b[1;33m)\u001b[0m\u001b[1;33m\u001b[0m\u001b[1;33m\u001b[0m\u001b[0m\n\u001b[1;32m----> 2\u001b[1;33m \u001b[0mmySearchEngine\u001b[0m\u001b[1;33m.\u001b[0m\u001b[0mrun\u001b[0m\u001b[1;33m(\u001b[0m\u001b[1;33m)\u001b[0m\u001b[1;33m\u001b[0m\u001b[1;33m\u001b[0m\u001b[0m\n\u001b[0m",
      "\u001b[1;32m<ipython-input-5-562815d7f3f8>\u001b[0m in \u001b[0;36mrun\u001b[1;34m(self)\u001b[0m\n\u001b[0;32m     92\u001b[0m             \u001b[1;32mif\u001b[0m \u001b[1;32mnot\u001b[0m \u001b[0mself\u001b[0m\u001b[1;33m.\u001b[0m\u001b[0mIndexer\u001b[0m\u001b[1;33m.\u001b[0m\u001b[0mindexCreated\u001b[0m\u001b[1;33m(\u001b[0m\u001b[1;33m)\u001b[0m\u001b[1;33m:\u001b[0m\u001b[1;33m\u001b[0m\u001b[1;33m\u001b[0m\u001b[0m\n\u001b[0;32m     93\u001b[0m                 \u001b[1;31m#TODO Inform user that an index needs to be set\u001b[0m\u001b[1;33m\u001b[0m\u001b[1;33m\u001b[0m\u001b[1;33m\u001b[0m\u001b[0m\n\u001b[1;32m---> 94\u001b[1;33m                 \u001b[0mself\u001b[0m\u001b[1;33m.\u001b[0m\u001b[0msetIndex\u001b[0m\u001b[1;33m(\u001b[0m\u001b[0mself\u001b[0m\u001b[1;33m.\u001b[0m\u001b[0mIndexer\u001b[0m\u001b[1;33m,\u001b[0m \u001b[0mself\u001b[0m\u001b[1;33m.\u001b[0m\u001b[0mUI\u001b[0m\u001b[1;33m)\u001b[0m\u001b[1;33m\u001b[0m\u001b[1;33m\u001b[0m\u001b[0m\n\u001b[0m\u001b[0;32m     95\u001b[0m                 \u001b[1;32mif\u001b[0m \u001b[0mself\u001b[0m\u001b[1;33m.\u001b[0m\u001b[0mSTOPPED\u001b[0m \u001b[1;33m==\u001b[0m \u001b[1;32mTrue\u001b[0m\u001b[1;33m:\u001b[0m \u001b[1;31m# Stop SE if user did not want to continue\u001b[0m\u001b[1;33m\u001b[0m\u001b[1;33m\u001b[0m\u001b[0m\n\u001b[0;32m     96\u001b[0m                     \u001b[0mself\u001b[0m\u001b[1;33m.\u001b[0m\u001b[0mstopSearchEngine\u001b[0m\u001b[1;33m(\u001b[0m\u001b[0mself\u001b[0m\u001b[1;33m.\u001b[0m\u001b[0mUI\u001b[0m\u001b[1;33m)\u001b[0m\u001b[1;33m\u001b[0m\u001b[1;33m\u001b[0m\u001b[0m\n",
      "\u001b[1;32m<ipython-input-5-562815d7f3f8>\u001b[0m in \u001b[0;36msetIndex\u001b[1;34m(self, Indexer, UI)\u001b[0m\n\u001b[0;32m     51\u001b[0m                 \u001b[1;31m# Creating Index\u001b[0m\u001b[1;33m\u001b[0m\u001b[1;33m\u001b[0m\u001b[1;33m\u001b[0m\u001b[0m\n\u001b[0;32m     52\u001b[0m                 \u001b[0mUI\u001b[0m\u001b[1;33m.\u001b[0m\u001b[0mcreatingIndex\u001b[0m\u001b[1;33m(\u001b[0m\u001b[0mindex_directory\u001b[0m\u001b[1;33m,\u001b[0m \u001b[0mdata_path\u001b[0m\u001b[1;33m)\u001b[0m\u001b[1;33m\u001b[0m\u001b[1;33m\u001b[0m\u001b[0m\n\u001b[1;32m---> 53\u001b[1;33m                 \u001b[0mIndexer\u001b[0m\u001b[1;33m.\u001b[0m\u001b[0mindex\u001b[0m\u001b[1;33m(\u001b[0m\u001b[1;33m)\u001b[0m\u001b[1;33m\u001b[0m\u001b[1;33m\u001b[0m\u001b[0m\n\u001b[0m\u001b[0;32m     54\u001b[0m                 \u001b[1;32mreturn\u001b[0m\u001b[1;33m\u001b[0m\u001b[1;33m\u001b[0m\u001b[0m\n\u001b[0;32m     55\u001b[0m \u001b[1;33m\u001b[0m\u001b[0m\n",
      "\u001b[1;32m<ipython-input-1-b907c908120c>\u001b[0m in \u001b[0;36mindex\u001b[1;34m(self)\u001b[0m\n\u001b[0;32m    158\u001b[0m                                         \u001b[0mauthor\u001b[0m\u001b[1;33m=\u001b[0m\u001b[0mobj\u001b[0m\u001b[1;33m[\u001b[0m\u001b[1;34m'author'\u001b[0m\u001b[1;33m]\u001b[0m\u001b[1;33m,\u001b[0m\u001b[0;31m\\\u001b[0m\u001b[1;33m\u001b[0m\u001b[1;33m\u001b[0m\u001b[0m\n\u001b[0;32m    159\u001b[0m                                         \u001b[0mpublished_date\u001b[0m\u001b[1;33m=\u001b[0m\u001b[0mretreived_date\u001b[0m\u001b[1;33m,\u001b[0m\u001b[0;31m\\\u001b[0m\u001b[1;33m\u001b[0m\u001b[1;33m\u001b[0m\u001b[0m\n\u001b[1;32m--> 160\u001b[1;33m                                         contents = self.extractDocumentContents(obj['contents']))\n\u001b[0m\u001b[0;32m    161\u001b[0m                 \u001b[1;32melse\u001b[0m\u001b[1;33m:\u001b[0m\u001b[1;33m\u001b[0m\u001b[1;33m\u001b[0m\u001b[0m\n\u001b[0;32m    162\u001b[0m                     \u001b[0mfault_counter\u001b[0m \u001b[1;33m=\u001b[0m \u001b[0mfault_counter\u001b[0m \u001b[1;33m+\u001b[0m \u001b[1;36m1\u001b[0m\u001b[1;33m\u001b[0m\u001b[1;33m\u001b[0m\u001b[0m\n",
      "\u001b[1;32m<ipython-input-1-b907c908120c>\u001b[0m in \u001b[0;36mextractDocumentContents\u001b[1;34m(self, contents)\u001b[0m\n\u001b[0;32m     80\u001b[0m                     \u001b[0mbuild_string\u001b[0m \u001b[1;33m=\u001b[0m \u001b[0mbuild_string\u001b[0m \u001b[1;33m+\u001b[0m \u001b[1;34m\"\\n\"\u001b[0m\u001b[1;33m\u001b[0m\u001b[1;33m\u001b[0m\u001b[0m\n\u001b[0;32m     81\u001b[0m             \u001b[1;32mexcept\u001b[0m\u001b[1;33m:\u001b[0m\u001b[1;33m\u001b[0m\u001b[1;33m\u001b[0m\u001b[0m\n\u001b[1;32m---> 82\u001b[1;33m                 \u001b[0mbuild_string\u001b[0m \u001b[1;33m=\u001b[0m \u001b[1;34m\"Could not retreive content\"\u001b[0m\u001b[1;33m\u001b[0m\u001b[1;33m\u001b[0m\u001b[0m\n\u001b[0m\u001b[0;32m     83\u001b[0m \u001b[1;33m\u001b[0m\u001b[0m\n\u001b[0;32m     84\u001b[0m         \u001b[0mprint\u001b[0m\u001b[1;33m(\u001b[0m\u001b[0mbuild_string\u001b[0m\u001b[1;33m)\u001b[0m\u001b[1;33m\u001b[0m\u001b[1;33m\u001b[0m\u001b[0m\n",
      "\u001b[1;31mKeyboardInterrupt\u001b[0m: "
     ]
    }
   ],
   "source": [
    "mySearchEngine = SearchEngine()\n",
    "mySearchEngine.run()"
   ]
  },
  {
   "cell_type": "code",
   "execution_count": null,
   "metadata": {},
   "outputs": [],
   "source": []
  }
 ],
 "metadata": {
  "kernelspec": {
   "display_name": "Python 3",
   "language": "python",
   "name": "python3"
  },
  "language_info": {
   "codemirror_mode": {
    "name": "ipython",
    "version": 3
   },
   "file_extension": ".py",
   "mimetype": "text/x-python",
   "name": "python",
   "nbconvert_exporter": "python",
   "pygments_lexer": "ipython3",
   "version": "3.8.5"
  }
 },
 "nbformat": 4,
 "nbformat_minor": 4
}
