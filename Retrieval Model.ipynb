{
 "cells": [
  {
   "cell_type": "code",
   "execution_count": 1,
   "metadata": {
    "scrolled": false
   },
   "outputs": [],
   "source": [
    "# RUN: 'pip install jsonlines' on: ModuleNotFoundError: No module named 'jsonlines'\n",
    "import json\n",
    "import jsonlines\n",
    "from tqdm import tqdm\n",
    "import pandas as pd\n",
    "import pickle\n",
    "\n",
    "# RUN: 'pip install whoosh' on: ModuleNotFoundError: No module named 'whoosh'\n",
    "import os, os.path\n",
    "\n",
    "#from whoosh import index\n",
    "import whoosh\n",
    "from whoosh.index import create_in\n",
    "from whoosh.fields import *\n",
    "from whoosh.writing import AsyncWriter\n",
    "\n",
    "from datetime import datetime\n",
    "from pytz import timezone\n",
    "\n",
    "from IPython.display import clear_output\n",
    "\n",
    "######################################\n",
    "\n",
    "class Indexer:\n",
    "    '''This class is used to create index of the WP database'''\n",
    "    \n",
    "    index_created = False\n",
    "    index_directory = \"\"\n",
    "    data_path = \"\"       \n",
    "    \n",
    "    def __init__(self):\n",
    "        print('Indexer has been initiated.')\n",
    "        \n",
    "    def indexCreated(self):\n",
    "        return self.index_created\n",
    "    \n",
    "    def openIndex(self):\n",
    "        pass\n",
    "      \n",
    "    ## Count documents\n",
    "    def countDocuments(self):\n",
    "        print(\"Counting documents, this might take a while...\")\n",
    "        counter = 0\n",
    "        tenKCounter = 0\n",
    "\n",
    "        with jsonlines.open(self.data_path) as reader:\n",
    "            for obj in tqdm(reader.iter(type=dict, skip_invalid=True)):\n",
    "                tenKCounter += 1\n",
    "                counter += 1\n",
    "            \n",
    "                if tenKCounter >= 10000:\n",
    "                    print(\"Current count is: \" + str(counter))\n",
    "                    tenKCounter = 0 \n",
    "        print(\"Last count is: \" + str(counter))\n",
    "        print(\"Counting done.\")\n",
    "    \n",
    "    def printDocumentData(self):\n",
    "        '''Prints every 10000th object'''\n",
    "        #dataframe = pd.DataFrame(columns = ['Title', 'Content', 'Year'])\n",
    "        with jsonlines.open(self.data_path) as reader:\n",
    "            counter = 0\n",
    "            for obj in tqdm(reader.iter(type=dict, skip_invalid=True)):\n",
    "                counter += 1\n",
    "                if (counter % 10000) == 0:\n",
    "                    print(\"Object number:\" + str(counter))\n",
    "                    print(type(obj))\n",
    "                    doc = Document(**obj)\n",
    "                    print(doc)\n",
    "        \n",
    "    def extractDocumentContents(self, contents):\n",
    "        '''Extracts document contents from array of dicts to string'''\n",
    "        build_string = \"\"\n",
    "        json_array = json.dumps(str(contents))\n",
    "        \n",
    "        for item in json_array:\n",
    "            try:\n",
    "                print(str(item['type']))\n",
    "                if str(item['type']) == \"sanitized_html\":\n",
    "                    build_string = build_string + str(item['content'])\n",
    "                    build_string = build_string + \"\\n\"\n",
    "            except:\n",
    "                build_string = \"Could not retreive content\"\n",
    "        \n",
    "        print(build_string)\n",
    "        return build_string\n",
    "    \n",
    "    def extractDocumentDate(self, epochTimestamp):\n",
    "        '''Converst UNIX epoch timestamp to DATETIME'''\n",
    "        # TODO IMPLENT Default value on Handling Error: ValueError: invalid literal for int() with base 10: 'None'\n",
    "        if (epochTimestamp == ''):\n",
    "            return datetime(1,1,1)\n",
    "        try:\n",
    "            # Test if source is within specified dates\n",
    "            date_info = epochTimestamp\n",
    "            removed_zeros = str(date_info)[0:10]\n",
    "            timestamp = int(removed_zeros)\n",
    "            return datetime.fromtimestamp(timestamp, timezone('EST'))\n",
    "        except:\n",
    "            print(\"ERROR: In extractDocumentDate()\")\n",
    "            print(\"ERROR: \", sys.exc_info()[0])\n",
    "            #print(\"Caused by value: \" + str(date_info))\n",
    "            return datetime(1,1,1)\n",
    "    \n",
    "    def setIndexDirectory(self, directory):\n",
    "        self.index_directory = directory\n",
    "    \n",
    "    def getIndexLocation(self):\n",
    "        return self.index_directory\n",
    "    \n",
    "    def setDataPath(self, file_location):\n",
    "        self.data_path = file_location\n",
    "    \n",
    "    def getDataPath(self):\n",
    "        return self.data_path\n",
    "    \n",
    "    def setIndexCreatedTrue(self):\n",
    "        self.index_created = True        \n",
    "    \n",
    "    def index(self):\n",
    "        '''This method indexes the data'''\n",
    "        # https://whoosh.readthedocs.io/en/latest/api/writing.html\n",
    "        # https://appliedmachinelearning.blog/2018/07/31/developing-a-fast-indexing-and-full-text-search-engine-with-whoosh-a-pure-python-library/\n",
    "        # TODO add document contents to index\n",
    "        \n",
    "        #  [id, article_url, title, author, publised_date, contents, type, source]\n",
    "        # Define fields using whoosh's 'Schema' | https://whoosh.readthedocs.io/en/latest/schema.html#\n",
    "        # Can add field boost here\n",
    "        # TODO: critically look at different fields, which are important?, which need to be shown to the user? etc.\n",
    "        # TODO: check if index_location has been set\n",
    "        \n",
    "        assert self.index_directory and self.data_path # Both variables have to be set\n",
    "        \n",
    "        schema = Schema(doc_id = whoosh.fields.ID(unique=True, stored=True),\\\n",
    "                       article_url = whoosh.fields.STORED,\\\n",
    "                       title = whoosh.fields.TEXT(stored=True),\\\n",
    "                       author = whoosh.fields.ID,\\\n",
    "                       published_date = whoosh.fields.DATETIME,\\\n",
    "                       contents = whoosh.fields.TEXT)\n",
    "              \n",
    "        # Creating a index writer to add document as per schema\n",
    "        myindex = whoosh.index.create_in(self.index_directory,schema)\n",
    "        writer = whoosh.writing.AsyncWriter(myindex)\n",
    "        \n",
    "        # Loop over data\n",
    "        print(\"Looping over data. Indexing each article.\")\n",
    "        print(\"This might take a few minutes...\")\n",
    "        counter = 0\n",
    "        checker = 10000\n",
    "        fault_counter = 0\n",
    "        with jsonlines.open(self.data_path) as reader:\n",
    "            for obj in tqdm(reader.iter(type=dict, skip_invalid=True)):\n",
    "                retreived_date = self.extractDocumentDate(obj['published_date'])\n",
    "                if retreived_date != datetime(1,1,1):\n",
    "                    counter = counter + 1\n",
    "                    writer.add_document(doc_id=obj['id'],\\\n",
    "                                        article_url=obj['article_url'],\\\n",
    "                                        title=obj['title'],\\\n",
    "                                        author=obj['author'],\\\n",
    "                                        published_date=retreived_date,\\\n",
    "                                        contents = self.extractDocumentContents(obj['contents']))\n",
    "                else:\n",
    "                    fault_counter = fault_counter + 1\n",
    "                    \n",
    "                if counter > checker:\n",
    "                    writer.commit()\n",
    "                    writer = whoosh.writing.AsyncWriter(myindex)\n",
    "                    checker = checker + 10000\n",
    "                    clear_output(wait=True)\n",
    "                    print(\"Looping over data. Indexing each article.\")\n",
    "                    print(\"This might take a few minutes...\")\n",
    "                    print(\"Indexed \" + str(counter - 1) + \" articles\")\n",
    "                    break\n",
    "                    if fault_counter > 0:\n",
    "                        print(\"Found \" + str(fault_counter) + \" wrongly formatted articles\")\n",
    "            \n",
    "            print(\"Looping complete.\")\n",
    "        print(\"Index created!\")\n",
    "        self.setIndexCreatedTrue()\n",
    "        \n",
    "    \n",
    "\n",
    "\n",
    "# indexer = Indexer()\n",
    "# #indexer.countDocuments()\n",
    "# #indexer.printDocumentData()\n",
    "# #indexer.createDocumentDataStore()\n",
    "# indexer.index()"
   ]
  },
  {
   "cell_type": "code",
   "execution_count": 2,
   "metadata": {},
   "outputs": [],
   "source": [
    "###############################################\n",
    "from whoosh.qparser import QueryParser\n",
    "from whoosh import scoring\n",
    "from whoosh.index import open_dir\n",
    "\n",
    "class Ranking:\n",
    "    '''This class contains functions that are used to create a ranking based on different algorithms'''\n",
    "    \n",
    "    show_n_results = 3\n",
    "    index_directory = \"\"\n",
    "    \n",
    "    def __init__(self):\n",
    "        print(\"Ranking class has been initiated.\")\n",
    "    \n",
    "    def indexCreated(self):\n",
    "        return indexCreated\n",
    "    \n",
    "    def createIndex(self):\n",
    "        pass\n",
    "    \n",
    "    def setIndexDirectory(self, directory):\n",
    "        self.index_directory = directory\n",
    "    \n",
    "    def openIndex(self):\n",
    "        assert self.index_directory\n",
    "        return open_dir(self.index_directory)\n",
    "    \n",
    "   \n",
    "    def resultsToList(self, results):\n",
    "        resultsList = []\n",
    "        for result in results:\n",
    "            result_dict = result.fields()\n",
    "            result_dict['score'] = result.score\n",
    "            resultsList.append(result_dict)\n",
    "        return resultsList\n",
    "            \n",
    "    \n",
    "    def searchTermFrequency(self, user_query, indexer):\n",
    "        '''Returns results for a given query based on the Term Frequency search algorithm. Returned value is a list of dictionaries.'''\n",
    "        #TODO check if index has been created\n",
    "        index_dir = indexer.getIndexLocation()\n",
    "        self.setIndexDirectory(index_dir)\n",
    "        index = self.openIndex()\n",
    "        resultsList = []        \n",
    "        # Add: whoosh.qparser.MultifieldParser(fieldnames, schema, fieldboosts=None, **kwargs)\n",
    "        # TODO: get fieldnames and schema from indexer -> add getters in Inderex class\n",
    "        # TODO: add parameter that dictates search algorithm\n",
    " \n",
    "        with index.searcher(weighting=scoring.Frequency) as searcher:\n",
    "            parsed_query = QueryParser(\"title\", index.schema).parse(user_query)\n",
    "            results = searcher.search(parsed_query, limit=self.show_n_results)\n",
    "            #self.printResults(results)\n",
    "            for result in results:\n",
    "                print(\"result \", result)\n",
    "                print(\"type result \", type(result))\n",
    "                print(\"fields result \", result.fields())\n",
    "                print(\"keys result \", result.keys())\n",
    "                \n",
    "    def searchTermFrequencyReturnResults(self, user_query, indexer):\n",
    "        #TODO check if index has been created\n",
    "        index_dir = indexer.getIndexLocation()\n",
    "        self.setIndexDirectory(index_dir)\n",
    "        index = self.openIndex()\n",
    "        \n",
    "        with index.searcher(weighting=scoring.Frequency) as searcher:\n",
    "            parsed_query = QueryParser(\"title\", index.schema).parse(user_query)\n",
    "            results = searcher.search(parsed_query)     \n",
    "            results = resultsToList(results)\n",
    "            return results\n",
    "            \n",
    "    \n",
    "    def searchTF_IDF():\n",
    "        '''Returns results for a given query based on the TF-IDF search algorithm. Returned value is a list of dictionaries.'''\n",
    "        pass\n",
    "    \n",
    "    \n",
    "    def searchBM25FReturnResults(self, user_query, indexer):\n",
    "        \n",
    "        index_dir = indexer.getIndexLocation()\n",
    "        self.setIndexDirectory(index_dir)\n",
    "        index = self.openIndex()\n",
    "        \n",
    "        with index.searcher(weighting=scoring.BM25F(B=0.75, content_B=1.0, K1=1.5)) as searcher:\n",
    "            parsed_query = QueryParser(\"title\", index.schema).parse(user_query)\n",
    "            results = searcher.search(parsed_query)       \n",
    "            results = self.resultsToList(results)\n",
    "\n",
    "            return results\n",
    "        \n",
    "        \n",
    "    def searchBM25F():\n",
    "        '''Returns results for a given query based on the BM25F search algorithm. Returned value is a list of dictionaries.'''\n",
    "        pass\n",
    "        \n",
    "    "
   ]
  },
  {
   "cell_type": "code",
   "execution_count": 3,
   "metadata": {
    "scrolled": false
   },
   "outputs": [
    {
     "name": "stdout",
     "output_type": "stream",
     "text": [
      "Ranking class has been initiated.\n"
     ]
    }
   ],
   "source": [
    "################################################\n",
    "import urllib\n",
    "\n",
    "class Evaluation:\n",
    "    '''Used to evaluate the ranking results'''\n",
    "    #should check if query used is in the \n",
    "    \n",
    "    # TODO load evaluation document and queries\n",
    "    # TODO pass queries on to ranking and obtain ranking results\n",
    "    # TODO compare ranking results to TREC evaluation\n",
    "    # TODO display results, how?\n",
    "    # TODO test different algorithms\n",
    "    \n",
    "    queries = []\n",
    "    ranking = Ranking()\n",
    "    \n",
    "    def load_queries(self):\n",
    "        \n",
    "        query_url = \"https://trec.nist.gov/data/core/topics2018.txt\"\n",
    "        query_file = urllib.request.urlopen(query_url)\n",
    "        titles, numbers = [], []\n",
    "        title = False\n",
    "        \n",
    "        for line in query_file:\n",
    "            decoded_line = line.decode(\"utf-8\")\n",
    "            \n",
    "            if title and not \"</title>\" in decoded_line:\n",
    "                titles.append(decoded_line.replace(\"\\n\", \"\").strip())\n",
    "\n",
    "            if \"<title>\" in decoded_line:\n",
    "                title = True\n",
    "            \n",
    "            if \"</title>\" in decoded_line:\n",
    "                title = False\n",
    "                \n",
    "            if \"<num>\" in decoded_line:\n",
    "                num = decoded_line.replace(\"<num>\", \"\").replace(\"</num>\", \"\").replace(\"\\n\", \"\").replace(\"Number: \", \"\").strip()\n",
    "                numbers.append(num)\n",
    "        \n",
    "        queries = list(zip(titles, numbers))\n",
    "        return queries \n",
    "\n",
    "        \n",
    "    def addResults(self, results_formatted, results, query, number):\n",
    "        count = 0\n",
    "        \n",
    "        for hit in results:        \n",
    "            print(hit)\n",
    "            current_result = str(number) + \" 0 \"                    \n",
    "            current_result = str(current_result) + str(hit['doc_id']) + \" \" + str(hit['score'])           \n",
    "            results_formatted.append(current_result)\n",
    "            count += 1\n",
    "            \n",
    "        print(\"for query {} there are {} hits\".format(query, count))\n",
    "        return results_formatted\n",
    "        \n",
    "        \n",
    "    def writeResults(self, results):\n",
    "        \n",
    "        with open(\"results.txt\", \"w\") as results_file:\n",
    "            for result in results:\n",
    "                results_file.write(result + \"\\n\")\n",
    "                \n",
    "    \n",
    "    def compareResults(self):        \n",
    "        # read in results.txt\n",
    "        predictions = []\n",
    "        with open(\"results.txt\", \"r\") as results_file:\n",
    "            for line in results_file:\n",
    "                current_result = line.split(\" \")\n",
    "                current_result = [i.strip(\"\\n\") for i in current_result]\n",
    "                \n",
    "                predictions.append(current_result)\n",
    "                \n",
    "        # read in true scores file\n",
    "        true_scores = []\n",
    "        true_scores_url = \"https://trec.nist.gov/data/core/qrels2018.txt\"\n",
    "        true_scores_file = urllib.request.urlopen(true_scores_url)\n",
    "\n",
    "        for line in true_scores_file:\n",
    "            decoded_line = line.decode(\"utf-8\")\n",
    "            decoded_line = decoded_line.split(\" \")\n",
    "            decoded_line = [i.strip(\"\\n\") for i in decoded_line]\n",
    "            \n",
    "            true_scores.append(decoded_line)\n",
    "        \n",
    "        \n",
    "        # compare results.txt (preds) with true scores\n",
    "        correct_preds, incorrect_preds = 0, 0\n",
    "        \n",
    "        for pred in predictions:\n",
    "            for true_score in true_scores:\n",
    "                \n",
    "                if pred[0] == true_score[0] and pred[2] == true_score[2]:\n",
    "                    if pred[3] == true_score[3]:\n",
    "                        correct_preds += 1\n",
    "                    else:\n",
    "                        incorrect_preds += 1\n",
    "                        \n",
    "                    break\n",
    "                    \n",
    "        if correct_preds == incorrect_preds == 0:\n",
    "            print(\"No matches found, because doc id's do not yet work\")\n",
    "\n",
    "        else:\n",
    "            print(\"Performance: {:.2f}%\".format(correct_preds/(correct_preds+incorrect_preds)))\n",
    "        \n"
   ]
  },
  {
   "cell_type": "code",
   "execution_count": 4,
   "metadata": {},
   "outputs": [],
   "source": [
    "##################################################\n",
    "class UserInterface:\n",
    "    '''Class used to handle user interaction'''\n",
    "    # TODOS:\n",
    "    # implement method that asks used if \n",
    "    # implement methods that asks the user to set different options\n",
    "          \n",
    "    def __init__(self):\n",
    "        '''This is the constructor method of the UI'''\n",
    "        print(\"UserInterface has been initiated.\")       \n",
    "        \n",
    "    def getUserQuery(self):\n",
    "        ''''Retrieves the query from the user and returns it'''\n",
    "        userInput = input(\"Please enter a query: \")\n",
    "        return userInput\n",
    "    \n",
    "    def indexAlreadyCreated(self, directory_location):\n",
    "        print(\"Index is set.\")\n",
    "        print(\"Index files are stored in directory:\" + directory_location)\n",
    "        return\n",
    "    \n",
    "    def shouldCreateIndex(self):\n",
    "        print(\"Do you wish to create a new index?\")\n",
    "        userInput = input(\"Answer [y/n]: \")\n",
    "        if userInput == ('y' or 'Y' or \"yes\"):\n",
    "            return True\n",
    "        return False\n",
    "    \n",
    "    def indexIsNotSet(self):\n",
    "        print(\"Index has not been set.\")\n",
    "        return\n",
    "    \n",
    "    def getIndexDirectory(self, default_directory):\n",
    "        userInput = input(\"Please enter a directory name for the index (default = /\"+ default_directory + \"): \")\n",
    "        if userInput == \"\":\n",
    "            return default_directory\n",
    "        return userInput\n",
    "    \n",
    "    def getDataPath(self, default_data_path):\n",
    "        print(\"Please enter the path to the TREC_Washington_Post_collection.v2.jl file.\")\n",
    "        print(\"The default location is: /\"+ default_data_path + \"): \")\n",
    "        userInput = input()\n",
    "        if userInput == \"\":\n",
    "            return default_data_path\n",
    "        return userInput\n",
    "    \n",
    "    def creatingIndex(self, index_directory, data_path):\n",
    "        pass\n",
    "    \n",
    "    def shouldAddExistingIndex(self):\n",
    "        print(\"Do you wish to add an existing index?\")\n",
    "        userInput = input(\"Answer [y/n]: \")\n",
    "        if userInput == ('y' or 'Y' or \"yes\"):\n",
    "            return True\n",
    "        return False\n",
    "    \n",
    "    def stopSearchEngine(self):\n",
    "        print(\"Search Engine is stopped.\")\n",
    "        \n",
    "    def shouldTerminateSearchEngine(self):\n",
    "        print(\"Do you wish to stop the search engine?\")\n",
    "        userInput = input(\"Answer [y/n]: \")\n",
    "        if userInput == ('y' or 'Y' or \"yes\"):\n",
    "            return True\n",
    "        return False\n",
    "    \n",
    "    def printResults(self, results):\n",
    "        print(\"\\nPrinting results:\")\n",
    "        for result in results:\n",
    "            print(result)\n",
    "    "
   ]
  },
  {
   "cell_type": "code",
   "execution_count": 5,
   "metadata": {},
   "outputs": [],
   "source": [
    "# Block used to run everything:\n",
    "# TODO expand this 'Controll' class that handles information flow\n",
    "# TODO add querying functionality\n",
    "# TODO implement choice of search algorithm\n",
    "# TODO implement evaluation mode\n",
    "import time\n",
    "\n",
    "class SearchEngine:\n",
    "    '''This class embodies the search engine and acts a a controller class'''\n",
    "    \n",
    "    UI = None\n",
    "    Indexer = None\n",
    "    Ranking = None\n",
    "    \n",
    "    RUNNING = False\n",
    "    STOPPED = False\n",
    "    EVALUATION_MODE = True\n",
    "    USER_MODE = False\n",
    "    \n",
    "    user_query = \"\"\n",
    "    DEFAULT_data_path = 'WP-corpus/data/TREC_Washington_Post_collection.v2.jl'\n",
    "    DEFAULT_index_directory = \"indexdir\"\n",
    "    \n",
    "    \n",
    "    def __init__(self):\n",
    "        print(\"Search Engine has been initiated.\")\n",
    "    \n",
    "    def stopSearchEngine(self, UI):\n",
    "        self.RUNNING = False\n",
    "        UI.stopSearchEngine()        \n",
    "        \n",
    "    def setIndex(self, Indexer, UI):\n",
    "        if Indexer.indexCreated():\n",
    "            directory_location = Indexer.getIndexLocation()\n",
    "            UI.indexAlreadyCreated(directory_location)\n",
    "            return\n",
    "        else:\n",
    "            UI.indexIsNotSet()\n",
    "            if UI.shouldCreateIndex(): # This is for creating a new index\n",
    "                # Index directory (setDir)\n",
    "                index_directory = UI.getIndexDirectory(self.DEFAULT_index_directory)\n",
    "                Indexer.setIndexDirectory(index_directory)\n",
    "                # Check if index_dir exist and makes one if it doesn't\n",
    "                if not os.path.exists(index_directory):\n",
    "                    os.mkdir(index_directory)\n",
    "                \n",
    "                # Data file path (setPath)    \n",
    "                data_path = UI.getDataPath(self.DEFAULT_data_path)\n",
    "                Indexer.setDataPath(data_path)\n",
    "                \n",
    "                # Creating Index\n",
    "                UI.creatingIndex(index_directory, data_path)\n",
    "                Indexer.index()\n",
    "                return\n",
    "                \n",
    "            elif UI.shouldAddExistingIndex(): # This is for adding an existing index\n",
    "                \n",
    "                # TODO communicate chosen directories and chosen data file\n",
    "                # TODO add checks to check for existence of index?\n",
    "                \n",
    "                # Index directory, duplicate code -> (setDir)\n",
    "                index_directory = UI.getIndexDirectory(self.DEFAULT_index_directory)\n",
    "                Indexer.setIndexDirectory(index_directory)\n",
    "                # Check if index_dir exist and makes one if it doesn't\n",
    "                if not os.path.exists(index_directory):\n",
    "                    os.mkdir(index_directory)\n",
    "                \n",
    "                # Data file path, duplicate code -> (setPath)    \n",
    "                data_path = UI.getDataPath(self.DEFAULT_data_path)\n",
    "                Indexer.setDataPath(data_path)\n",
    "                \n",
    "                # Set index created to true\n",
    "                Indexer.setIndexCreatedTrue()\n",
    "                return\n",
    "                                \n",
    "            else: # TODO: Ask if the user wants to continue or stop\n",
    "                if UI.shouldTerminateSearchEngine(): \n",
    "                    self.STOPPED = True\n",
    "                return\n",
    "            return\n",
    "       \n",
    "    def run(self):\n",
    "        '''This function start the search engine'''\n",
    "        print('Search Engine started.')\n",
    "        \n",
    "        self.UI = UserInterface()\n",
    "        self.Indexer = Indexer()\n",
    "        self.Ranking = Ranking()\n",
    "                \n",
    "        self.RUNNING = True\n",
    "        while self.RUNNING:\n",
    "            if not self.Indexer.indexCreated():\n",
    "                #TODO Inform user that an index needs to be set\n",
    "                self.setIndex(self.Indexer, self.UI)\n",
    "                if self.STOPPED == True: # Stop SE if user did not want to continue\n",
    "                    self.stopSearchEngine(self.UI)\n",
    "                    break\n",
    "            #TODO ask user to choose a mode\n",
    "                       \n",
    "            if self.EVALUATION_MODE:\n",
    "            # This is used to evaluate SE against the TREC relevance judgements\n",
    "                index_dir = self.Indexer.getIndexLocation()\n",
    "                self.Ranking.setIndexDirectory(index_dir)\n",
    "                \n",
    "                evaluation = Evaluation()\n",
    "                queries  = evaluation.load_queries()\n",
    "                print(\"Queries loaded\")\n",
    "                \n",
    "                results_formatted = []\n",
    "                \n",
    "                for (query, number) in tqdm(queries):\n",
    "                    #results = self.Ranking.searchTermFrequencyReturnResults(query, self.Indexer)\n",
    "                    results = self.Ranking.searchBM25FReturnResults(query, self.Indexer)\n",
    "                    results_formatted = evaluation.addResults(results_formatted, results, query, number)\n",
    "                \n",
    "                evaluation.writeResults(results_formatted)\n",
    "                evaluation.compareResults()    \n",
    "                \n",
    "                print(\"Done\")\n",
    "                self.RUNNING = False\n",
    " \n",
    "            if self.USER_MODE:\n",
    "                # This is used to query questions\n",
    "                #TODO ask for search algorithm\n",
    "                #TODO ask for user query\n",
    "                #TODO move printing results to UI\n",
    "                print(\"Entering USER_MODE\")\n",
    "                user_query = self.UI.getUserQuery()\n",
    "                print(\"Entered query: \" + user_query)\n",
    "                \n",
    "\n",
    "                results = self.Ranking.searchTermFrequency(user_query, self.Indexer)\n",
    "                self.UI.printResults(results)\n",
    "                \n",
    "            print(\"Starting over.\")\n",
    "            time.sleep(1)"
   ]
  },
  {
   "cell_type": "code",
   "execution_count": 6,
   "metadata": {},
   "outputs": [
    {
     "name": "stdout",
     "output_type": "stream",
     "text": [
      "Search Engine has been initiated.\n",
      "Search Engine started.\n",
      "UserInterface has been initiated.\n",
      "Indexer has been initiated.\n",
      "Ranking class has been initiated.\n",
      "Index has not been set.\n",
      "Do you wish to create a new index?\n",
      "Answer [y/n]: n\n",
      "Do you wish to add an existing index?\n",
      "Answer [y/n]: y\n",
      "Please enter a directory name for the index (default = /indexdir): \n",
      "Please enter the path to the TREC_Washington_Post_collection.v2.jl file.\n",
      "The default location is: /WP-corpus/data/TREC_Washington_Post_collection.v2.jl): \n",
      "\n"
     ]
    },
    {
     "name": "stderr",
     "output_type": "stream",
     "text": [
      "\r",
      "  0%|                                                                                                                                                                                      | 0/50 [00:00<?, ?it/s]"
     ]
    },
    {
     "name": "stdout",
     "output_type": "stream",
     "text": [
      "Queries loaded\n"
     ]
    },
    {
     "name": "stderr",
     "output_type": "stream",
     "text": [
      "\r",
      "  2%|███▍                                                                                                                                                                          | 1/50 [00:00<00:20,  2.40it/s]"
     ]
    },
    {
     "name": "stdout",
     "output_type": "stream",
     "text": [
      "for query Women in Parliaments there are 0 hits\n"
     ]
    },
    {
     "name": "stderr",
     "output_type": "stream",
     "text": [
      "\r",
      "  4%|██████▉                                                                                                                                                                       | 2/50 [00:00<00:20,  2.37it/s]"
     ]
    },
    {
     "name": "stdout",
     "output_type": "stream",
     "text": [
      "for query Black Bear Attacks there are 0 hits\n"
     ]
    },
    {
     "name": "stderr",
     "output_type": "stream",
     "text": [
      "\r",
      "  6%|██████████▍                                                                                                                                                                   | 3/50 [00:01<00:22,  2.11it/s]"
     ]
    },
    {
     "name": "stdout",
     "output_type": "stream",
     "text": [
      "{'article_url': 'https://www.washingtonpost.com/opinions/hypocrisy-on-airport-security/2013/01/31/ffe162ea-6a37-11e2-9a0b-db931670f35d_story.html', 'doc_id': 'ffe162ea-6a37-11e2-9a0b-db931670f35d', 'source': 'The Washington Post', 'title': 'Hypocrisy on airport security', 'type': 'article', 'score': 20.33511825376157}\n",
      "{'article_url': 'https://www.washingtonpost.com/opinions/airport-security-is-there-for-a-reason/2013/01/22/47f292fa-6314-11e2-889b-f23c246aa446_story.html', 'doc_id': '47f292fa-6314-11e2-889b-f23c246aa446', 'source': 'The Washington Post', 'title': 'Airport security is there for a reason', 'type': 'article', 'score': 18.8430811633607}\n",
      "{'article_url': 'https://www.washingtonpost.com/news/volokh-conspiracy/wp/2014/04/10/the-fourth-amendment-and-airport-security-contd/', 'doc_id': 'fca85901256c6079027319e585ed6922', 'source': 'The Washington Post', 'title': 'The Fourth Amendment and Airport Security, cont’d', 'type': 'blog', 'score': 17.55502619010065}\n",
      "{'article_url': 'https://www.washingtonpost.com/politics/using-social-media-to-improve-airport-security/2012/02/14/gIQAob2IDR_story.html', 'doc_id': 'd619912a-5715-11e1-8fb4-e176e27720b6', 'source': 'The Washington Post', 'title': 'Using social media to improve airport security', 'type': 'article', 'score': 16.431799034096464}\n",
      "{'article_url': 'https://www.washingtonpost.com/local/gop-platform-seeks-privatization-of-airport-security/2012/08/30/ead38832-f2d8-11e1-adc6-87dfa8eff430_story.html', 'doc_id': 'ead38832-f2d8-11e1-adc6-87dfa8eff430', 'source': 'The Washington Post', 'title': 'GOP platform seeks privatization of airport security', 'type': 'article', 'score': 16.431799034096464}\n",
      "{'article_url': 'https://www.washingtonpost.com/opinions/sikh-americans-raw-deal-at-airport-security/2013/11/29/8aab1dc6-5790-11e3-8304-caf30787c0a9_story.html', 'doc_id': '8aab1dc6-5790-11e3-8304-caf30787c0a9', 'source': 'The Washington Post', 'title': \"Sikh Americans' ‘raw deal’ at airport security\", 'type': 'article', 'score': 16.431799034096464}\n",
      "{'article_url': 'https://www.washingtonpost.com/news/dr-gridlock/wp/2013/12/17/questions-about-airport-security-here-are-the-answers/', 'doc_id': '9e5bfbf77de1031cfa97c2e209252164', 'source': 'The Washington Post', 'title': 'Questions about airport security? Here are the answers', 'type': 'blog', 'score': 16.431799034096464}\n",
      "{'article_url': 'https://www.washingtonpost.com/business/capitalbusiness/increased-airport-security-opens-up-contracting-opportunities/2011/12/27/gIQAiPkU1P_story.html', 'doc_id': '0afdf388-30c2-11e1-b034-d347de95dcfe', 'source': 'The Washington Post', 'title': 'Increased airport security opens up contracting opportunities', 'type': 'article', 'score': 15.443663657886383}\n",
      "{'article_url': 'https://www.washingtonpost.com/politics/how-many-airport-security-screeners-is-too-many/2012/03/28/gIQA2cafhS_story.html', 'doc_id': 'e5911cbe-78f2-11e1-96fc-4e3f9a8561ee', 'source': 'The Washington Post', 'title': 'How many airport security screeners is too many?', 'type': 'article', 'score': 15.443663657886383}\n",
      "{'article_url': 'https://www.washingtonpost.com/politics/clothing-left-at-airport-security-checkpoints-to-go-to-veterans/2013/08/04/247cc20e-fbae-11e2-8752-b41d7ed1f685_story.html', 'doc_id': '247cc20e-fbae-11e2-8752-b41d7ed1f685', 'source': 'The Washington Post', 'title': 'Clothing left at airport security checkpoints to go to veterans', 'type': 'article', 'score': 15.443663657886383}\n",
      "for query Airport Security there are 10 hits\n"
     ]
    },
    {
     "name": "stderr",
     "output_type": "stream",
     "text": [
      "\r",
      "  8%|█████████████▉                                                                                                                                                                | 4/50 [00:01<00:21,  2.17it/s]"
     ]
    },
    {
     "name": "stdout",
     "output_type": "stream",
     "text": [
      "for query Wildlife Extinction there are 0 hits\n"
     ]
    },
    {
     "name": "stderr",
     "output_type": "stream",
     "text": [
      "\r",
      " 10%|█████████████████▍                                                                                                                                                            | 5/50 [00:02<00:20,  2.23it/s]"
     ]
    },
    {
     "name": "stdout",
     "output_type": "stream",
     "text": [
      "for query Health and Computer Terminals there are 0 hits\n"
     ]
    },
    {
     "name": "stderr",
     "output_type": "stream",
     "text": [
      "\r",
      " 12%|████████████████████▉                                                                                                                                                         | 6/50 [00:02<00:21,  2.02it/s]"
     ]
    },
    {
     "name": "stdout",
     "output_type": "stream",
     "text": [
      "{'article_url': 'https://www.washingtonpost.com/local/immigration/horrific-episode-of-human-smuggling-fuels-both-sides-of-immigration-debate/2017/07/24/58bbcc82-7098-11e7-9eac-d56bd5568db8_story.html', 'doc_id': '58bbcc82-7098-11e7-9eac-d56bd5568db8', 'source': 'The Washington Post', 'title': 'Horrific episode of human smuggling fuels both sides of immigration debate', 'type': 'article', 'score': 16.587387096460013}\n",
      "{'article_url': 'https://www.washingtonpost.com/news/post-nation/wp/2017/07/25/trucking-company-associated-with-migrant-smuggling-case-has-history-of-complaints-legal-problems/', 'doc_id': '3864768a7d556cf62cf7f9b614bdc363', 'source': 'The Washington Post', 'title': 'Company whose trailer was used in human smuggling case has history of legal problems', 'type': 'blog', 'score': 14.286682575283795}\n",
      "for query human smuggling there are 2 hits\n"
     ]
    },
    {
     "name": "stderr",
     "output_type": "stream",
     "text": [
      "\r",
      " 14%|████████████████████████▎                                                                                                                                                     | 7/50 [00:03<00:20,  2.08it/s]"
     ]
    },
    {
     "name": "stdout",
     "output_type": "stream",
     "text": [
      "for query transportation tunnel disasters there are 0 hits\n"
     ]
    },
    {
     "name": "stderr",
     "output_type": "stream",
     "text": [
      "\r",
      " 16%|███████████████████████████▊                                                                                                                                                  | 8/50 [00:03<00:21,  1.99it/s]"
     ]
    },
    {
     "name": "stdout",
     "output_type": "stream",
     "text": [
      "{'article_url': 'https://www.washingtonpost.com/news/wonk/wp/2013/03/03/the-economics-of-somali-piracy/', 'doc_id': '2c09d07808e0691170d3ac70f87814f0', 'source': 'The Washington Post', 'title': 'The economics of Somali piracy', 'type': 'blog', 'score': 14.740048814293074}\n",
      "{'article_url': 'https://www.washingtonpost.com/news/wonk/wp/2013/03/03/the-economics-of-somali-piracy/feed/', 'doc_id': 'a7669b32d226e75c42687f7f78e6d993', 'source': 'The Washington Post', 'title': 'The economics of Somali piracy', 'type': 'blog', 'score': 14.740048814293074}\n",
      "{'article_url': 'https://www.washingtonpost.com/opinions/a-fair-block-on-internet-piracy/2011/12/16/gIQAIkn3WP_story.html', 'doc_id': '4a3b86e4-2840-11e1-af61-6efac089e2f6', 'source': 'The Washington Post', 'title': 'A fair block on Internet piracy', 'type': 'article', 'score': 13.658535578382757}\n",
      "{'article_url': 'https://www.washingtonpost.com/business/technology/google-fights-piracy-with-search/2012/08/10/f8d1be0e-e31f-11e1-a25e-15067bb31849_story.html', 'doc_id': 'f8d1be0e-e31f-11e1-a25e-15067bb31849', 'source': 'The Washington Post', 'title': 'Google fights piracy with search', 'type': 'article', 'score': 13.658535578382757}\n",
      "{'article_url': 'https://www.washingtonpost.com/lifestyle/style/online-piracy-hasnt-gone-away/2012/01/25/gIQAMEsnVQ_story.html', 'doc_id': '57f6c5a8-4778-11e1-9972-c5f62b5ac9ca', 'source': 'The Washington Post', 'title': 'Online piracy hasn’t gone away', 'type': 'article', 'score': 12.724880167855007}\n",
      "{'article_url': 'https://www.washingtonpost.com/news/volokh-conspiracy/wp/2015/06/01/new-book-on-piracy-prosecution-and-punishment/', 'doc_id': 'ca8a3ceb31db2843abc4956f309074a7', 'source': 'The Washington Post', 'title': 'New book on piracy prosecution and punishment', 'type': 'blog', 'score': 12.724880167855007}\n",
      "{'article_url': 'https://www.washingtonpost.com/world/europe/russia-charges-five-from-greenpeace-ship-with-piracy/2013/10/02/9b47a7d8-2b64-11e3-b141-298f46539716_story.html', 'doc_id': '9b47a7d8-2b64-11e3-b141-298f46539716', 'source': 'The Washington Post', 'title': 'Russia charges 14 from Greenpeace ship with piracy', 'type': 'article', 'score': 11.910701322055635}\n",
      "{'article_url': 'https://www.washingtonpost.com/news/volokh-conspiracy/wp/2015/10/06/shared-international-responsibility-for-piracy-a-model-for-migrants/', 'doc_id': 'b6b6708cd82ff52f2cc5505792c5bf27', 'source': 'The Washington Post', 'title': 'Shared international responsibility for piracy — a model for migrants?', 'type': 'blog', 'score': 11.910701322055635}\n",
      "{'article_url': 'https://www.washingtonpost.com/news/monkey-cage/wp/2015/10/08/theres-more-to-somali-fishing-than-piracy/', 'doc_id': '32783a44f158fd92176bdde351995e20', 'source': 'The Washington Post', 'title': 'There’s more to Somali fishing than piracy', 'type': 'blog', 'score': 11.910701322055635}\n",
      "{'article_url': 'https://www.washingtonpost.com/business/technology/senators-drop-support-of-piracy-bill-after-protests/2012/01/18/gIQA848M9P_story.html', 'doc_id': 'e6f26bba-41f4-11e1-8f2d-87a67739d0d2', 'source': 'The Washington Post', 'title': 'Senators drop support of piracy bill after protests', 'type': 'article', 'score': 11.194444671924172}\n",
      "for query piracy there are 10 hits\n"
     ]
    },
    {
     "name": "stderr",
     "output_type": "stream",
     "text": [
      "\r",
      " 18%|███████████████████████████████▎                                                                                                                                              | 9/50 [00:04<00:21,  1.87it/s]"
     ]
    },
    {
     "name": "stdout",
     "output_type": "stream",
     "text": [
      "{'article_url': 'https://www.washingtonpost.com/business/capitalbusiness/hydrogen-fuel-cell-clean-energy-concepts-reach-washington-auto-show/2014/01/22/f15df44c-8398-11e3-8099-9181471f7aaf_story.html', 'doc_id': 'f15df44c-8398-11e3-8099-9181471f7aaf', 'source': 'The Washington Post', 'title': 'Hydrogen fuel cell, clean energy concepts reach Washington Auto Show', 'type': 'article', 'score': 16.65276804929327}\n",
      "for query hydrogen energy there are 1 hits\n"
     ]
    },
    {
     "name": "stderr",
     "output_type": "stream",
     "text": [
      "\r",
      " 20%|██████████████████████████████████▌                                                                                                                                          | 10/50 [00:04<00:19,  2.02it/s]"
     ]
    },
    {
     "name": "stdout",
     "output_type": "stream",
     "text": [
      "for query euro opposition there are 0 hits\n"
     ]
    },
    {
     "name": "stderr",
     "output_type": "stream",
     "text": [
      "\r",
      " 22%|██████████████████████████████████████                                                                                                                                       | 11/50 [00:05<00:20,  1.92it/s]"
     ]
    },
    {
     "name": "stdout",
     "output_type": "stream",
     "text": [
      "{'article_url': 'https://www.washingtonpost.com/news/morning-mix/wp/2015/05/29/a-murder-or-a-mercy-killing-the-tangled-and-troubling-trial-of-gigi-jordan/', 'doc_id': '30ce3bae124447f415898b4436ca904e', 'source': 'The Washington Post', 'title': 'A murder or a ‘mercy killing?’ The tangled and troubling trial of Gigi Jordan', 'type': 'blog', 'score': 17.232416063902953}\n",
      "{'article_url': 'https://www.washingtonpost.com/news/morning-mix/wp/2015/05/29/a-murder-or-a-mercy-killing-the-tangled-and-troubling-trial-of-gigi-jordan/', 'doc_id': '70e1545dec7e946173c07bbb1ac1d88c', 'source': 'The Washington Post', 'title': 'The millionaire mom who poisoned her autistic son and called it a mercy killing', 'type': 'blog', 'score': 15.476612824304762}\n",
      "for query mercy killing there are 2 hits\n"
     ]
    },
    {
     "name": "stderr",
     "output_type": "stream",
     "text": [
      "\r",
      " 24%|█████████████████████████████████████████▌                                                                                                                                   | 12/50 [00:05<00:18,  2.04it/s]"
     ]
    },
    {
     "name": "stdout",
     "output_type": "stream",
     "text": [
      "for query automobile recalls there are 0 hits\n"
     ]
    },
    {
     "name": "stderr",
     "output_type": "stream",
     "text": [
      "\r",
      " 26%|████████████████████████████████████████████▉                                                                                                                                | 13/50 [00:06<00:19,  1.90it/s]"
     ]
    },
    {
     "name": "stdout",
     "output_type": "stream",
     "text": [
      "{'article_url': 'https://www.washingtonpost.com/news/opinions/wp/2016/05/24/you-cant-see-the-amazon-rain-forest-for-the-lack-of-trees/', 'doc_id': '00d8d4fb51170bf791af249aeed2a342', 'source': 'The Washington Post', 'title': 'You can’t see the Amazon Rain-forest for the lack of trees', 'type': 'blog', 'score': 26.681009096515634}\n",
      "{'article_url': 'https://www.washingtonpost.com/news/innovations/wp/2014/11/26/when-a-shaman-in-the-amazon-rain-forest-outperforms-western-medicine/', 'doc_id': '348deba4cb7148ec80698e5c64968ee3', 'source': 'The Washington Post', 'title': 'When a shaman in the Amazon rain forest outperforms Western medicine', 'type': 'blog', 'score': 25.076531771388726}\n",
      "{'article_url': 'https://www.washingtonpost.com/news/speaking-of-science/wp/2015/03/02/zip-from-the-amazon-rainforests-canopy-to-the-forest-floor-with-google-street-view/', 'doc_id': 'c04684338e0abe7c5a8656cc4eacd7ac', 'source': 'The Washington Post', 'title': 'Zip from the Amazon rain forest’s canopy to the forest floor with Google Street View', 'type': 'blog', 'score': 24.82944335661936}\n",
      "for query Amazon rain forest there are 3 hits\n"
     ]
    },
    {
     "name": "stderr",
     "output_type": "stream",
     "text": [
      "\r",
      " 28%|████████████████████████████████████████████████▍                                                                                                                            | 14/50 [00:07<00:19,  1.84it/s]"
     ]
    },
    {
     "name": "stdout",
     "output_type": "stream",
     "text": [
      "{'article_url': 'https://www.washingtonpost.com/world/the_americas/mexicos-coasts-battered-by-deadly-storms/2013/09/16/95894ee6-1eee-11e3-9ad0-96244100e647_story.html', 'doc_id': '95894ee6-1eee-11e3-9ad0-96244100e647', 'source': 'The Washington Post', 'title': 'At least 30 dead as tropical storms rake Mexico', 'type': 'article', 'score': 17.379426913446622}\n",
      "{'article_url': 'https://www.washingtonpost.com/news/capital-weather-gang/wp/2016/07/27/the-tropical-atlantic-ocean-is-toasty-warm-so-where-are-all-the-storms/', 'doc_id': '9f9ac16d3cd4a88d5052c50817c76a53', 'source': 'The Washington Post', 'title': 'The tropical Atlantic Ocean is toasty warm. So where are all the storms?', 'type': 'blog', 'score': 15.513590163521531}\n",
      "{'article_url': 'https://www.washingtonpost.com/news/capital-weather-gang/wp/2016/09/16/the-atlantic-ocean-has-three-tropical-storms-in-it-for-the-first-time-since-2012/feed/', 'doc_id': 'f0e7b1c202f275e6611c47cf43b639ac', 'source': 'The Washington Post', 'title': 'The Atlantic Ocean has three tropical storms in it for the first time since 2012', 'type': 'blog', 'score': 14.7232537485377}\n",
      "{'article_url': 'https://www.washingtonpost.com/news/capital-weather-gang/wp/2016/09/16/the-atlantic-ocean-has-three-tropical-storms-in-it-for-the-first-time-since-2012/', 'doc_id': '44c5f647446ad7fb3005fd4d61e542c0', 'source': 'The Washington Post', 'title': 'The Atlantic Ocean has three tropical storms in it for the first time since 2012', 'type': 'blog', 'score': 14.7232537485377}\n",
      "{'article_url': 'https://www.washingtonpost.com/news/capital-weather-gang/wp/2013/09/03/no-tropical-storms-over-labor-day-weekend-what-does-that-mean-for-hurricane-season/', 'doc_id': '656109c7849241b9b608eba8e632523e', 'source': 'The Washington Post', 'title': 'No tropical storms over Labor Day weekend: what does that mean for hurricane season?', 'type': 'blog', 'score': 13.361823473485938}\n",
      "{'article_url': 'https://www.washingtonpost.com/news/capital-weather-gang/wp/2013/10/06/d-c-area-forecast-summer-heat-with-a-tropical-twist-as-storms-threaten-late-monday/', 'doc_id': 'dd81a1031fa0e6c7b1120685cf332b11', 'source': 'The Washington Post', 'title': 'D.C. area forecast: Summer heat with a tropical twist, as storms threaten late Monday', 'type': 'blog', 'score': 13.361823473485938}\n",
      "{'article_url': 'https://www.washingtonpost.com/news/capital-weather-gang/wp/2014/10/24/parade-of-storms-including-remains-of-tropical-storm-ana-poisted-to-pound-pacific-northwest/', 'doc_id': '983ad4c49b2ba4accc5cd6730c153a9e', 'source': 'The Washington Post', 'title': 'Parade of storms, including remains of Tropical Storm Ana, poised to pound Pacific Northwest', 'type': 'blog', 'score': 13.361823473485938}\n",
      "{'article_url': 'https://www.washingtonpost.com/news/capital-weather-gang/wp/2014/06/19/d-c-area-forecast-tropical-air-spawns-showers-and-storms-weekend-not-as-hot-but-not-all-dry/', 'doc_id': 'f4fa203674736a42eb29e38098e7ed02', 'source': 'The Washington Post', 'title': 'D.C. area forecast: Tropical air spawns showers and storms; weekend not as hot but not all dry', 'type': 'blog', 'score': 12.771352564941092}\n",
      "for query tropical storms there are 8 hits\n"
     ]
    },
    {
     "name": "stderr",
     "output_type": "stream",
     "text": [
      "\r",
      " 30%|███████████████████████████████████████████████████▉                                                                                                                         | 15/50 [00:07<00:17,  1.96it/s]"
     ]
    },
    {
     "name": "stdout",
     "output_type": "stream",
     "text": [
      "for query Cuba, sugar, exports there are 0 hits\n"
     ]
    },
    {
     "name": "stderr",
     "output_type": "stream",
     "text": [
      "\r",
      " 32%|███████████████████████████████████████████████████████▎                                                                                                                     | 16/50 [00:08<00:17,  1.99it/s]"
     ]
    },
    {
     "name": "stdout",
     "output_type": "stream",
     "text": [
      "for query art, stolen, forged there are 0 hits\n"
     ]
    },
    {
     "name": "stderr",
     "output_type": "stream",
     "text": [
      "\r",
      " 34%|██████████████████████████████████████████████████████████▊                                                                                                                  | 17/50 [00:08<00:17,  1.87it/s]"
     ]
    },
    {
     "name": "stdout",
     "output_type": "stream",
     "text": [
      "{'article_url': 'https://www.washingtonpost.com/local/trafficandcommuting/belvoir-veterinarians-keep-law-enforcements-dogs-in-good-health/2013/07/09/4ac2e312-dcf0-11e2-9218-bc2ac7cd44e2_story.html', 'doc_id': '4ac2e312-dcf0-11e2-9218-bc2ac7cd44e2', 'source': 'The Washington Post', 'title': 'Belvoir veterinarians keep law enforcement’s dogs ready for action', 'type': 'article', 'score': 23.1078851589932}\n",
      "{'article_url': 'https://www.washingtonpost.com/local/crime/2-maryland-law-enforcement-dogs-die-of-heat-exhaustion-inside-car/2015/09/01/13afe080-50ae-11e5-933e-7d06c647a395_story.html', 'doc_id': '13afe080-50ae-11e5-933e-7d06c647a395', 'source': 'The Washington Post', 'title': '2 Maryland law enforcement dogs die of heat exhaustion inside car', 'type': 'article', 'score': 21.86746619818905}\n",
      "for query law enforcement, dogs there are 2 hits\n"
     ]
    },
    {
     "name": "stderr",
     "output_type": "stream",
     "text": [
      "\r",
      " 36%|██████████████████████████████████████████████████████████████▎                                                                                                              | 18/50 [00:09<00:15,  2.03it/s]"
     ]
    },
    {
     "name": "stdout",
     "output_type": "stream",
     "text": [
      "for query UV damage, eyes there are 0 hits\n"
     ]
    },
    {
     "name": "stderr",
     "output_type": "stream",
     "text": [
      "\r",
      " 38%|█████████████████████████████████████████████████████████████████▋                                                                                                           | 19/50 [00:09<00:14,  2.07it/s]"
     ]
    },
    {
     "name": "stdout",
     "output_type": "stream",
     "text": [
      "for query Greek, philosophy, stoicism there are 0 hits\n"
     ]
    },
    {
     "name": "stderr",
     "output_type": "stream",
     "text": [
      "\r",
      " 40%|█████████████████████████████████████████████████████████████████████▏                                                                                                       | 20/50 [00:09<00:13,  2.17it/s]"
     ]
    },
    {
     "name": "stdout",
     "output_type": "stream",
     "text": [
      "for query inventions, scientific discoveries there are 0 hits\n"
     ]
    },
    {
     "name": "stderr",
     "output_type": "stream",
     "text": [
      "\r",
      " 42%|████████████████████████████████████████████████████████████████████████▋                                                                                                    | 21/50 [00:10<00:14,  2.01it/s]"
     ]
    },
    {
     "name": "stdout",
     "output_type": "stream",
     "text": [
      "{'article_url': 'https://www.washingtonpost.com/express/wp/2014/09/11/rory-kennedy-reveals-heroic-acts-with-last-days-in-vietnam/', 'doc_id': '4084a7627ab6a184983ad133b32deef3', 'source': 'The Washington Post', 'title': 'Rory Kennedy reveals heroic acts with  ‘Last Days in Vietnam’', 'type': 'blog', 'score': 19.375622115650863}\n",
      "{'article_url': 'https://www.washingtonpost.com/news/early-lead/wp/2015/10/02/family-of-oregon-shooting-victim-chris-mintz-credits-wrestling-and-mma-background-for-heroic-acts/', 'doc_id': 'f7fda5121215b09571dd5e8d724228ee', 'source': 'The Washington Post', 'title': 'Family of Oregon shooting victim Chris Mintz credits wrestling and MMA background for heroic acts', 'type': 'blog', 'score': 15.792370886440816}\n",
      "{'article_url': 'https://www.washingtonpost.com/news/federal-eye/wp/2014/09/10/three-heroes-among-u-s-postal-service-letter-carriers/', 'doc_id': '9903845e7e4773065f4fc0636f27524c', 'source': 'The Washington Post', 'title': 'Saving babies from fires, rescuing abducted children and other heroic acts by U.S. Postal Service employees', 'type': 'blog', 'score': 15.094491917758322}\n",
      "for query heroic acts there are 3 hits\n"
     ]
    },
    {
     "name": "stderr",
     "output_type": "stream",
     "text": [
      "\r",
      " 44%|████████████████████████████████████████████████████████████████████████████                                                                                                 | 22/50 [00:11<00:14,  1.95it/s]"
     ]
    },
    {
     "name": "stdout",
     "output_type": "stream",
     "text": [
      "{'article_url': 'https://www.washingtonpost.com/news/acts-of-faith/wp/2015/07/05/seventh-day-adventists-to-decide-whether-women-can-become-clergy/', 'doc_id': '14b0cd1e1e136f67f14f0746adfef0fb', 'source': 'The Washington Post', 'title': 'Seventh-day Adventists to decide whether women can become clergy', 'type': 'blog', 'score': 15.786779359870991}\n",
      "{'article_url': 'https://www.washingtonpost.com/news/acts-of-faith/wp/2016/05/12/pope-francis-discussed-the-possibility-of-women-deacons-which-other-religions-have-female-clergy/', 'doc_id': '017dd874357b107e3a897964af8d8698', 'source': 'The Washington Post', 'title': 'Pope Francis discussed the possibility of women deacons. Which other religions have female clergy?', 'type': 'blog', 'score': 12.86723457266996}\n",
      "{'article_url': 'https://www.washingtonpost.com/news/acts-of-faith/wp/2016/05/12/pope-francis-discussed-the-possibility-of-women-deacons-which-other-religions-have-female-clergy/0/', 'doc_id': '1bd3bf9bb832af8a9ad1257b74f4083c', 'source': 'The Washington Post', 'title': 'Pope Francis discussed the possibility of women deacons. Which other religions have female clergy?', 'type': 'blog', 'score': 12.86723457266996}\n",
      "{'article_url': 'https://www.washingtonpost.com/world/pope-francis-talks-about-gay-clergy-role-of-women-on-flight-from-brazil-to-vatican/2013/07/29/0af5df0a-f857-11e2-b018-5b8251f0c56e_story.html', 'doc_id': '0af5df0a-f857-11e2-b018-5b8251f0c56e', 'source': 'The Washington Post', 'title': 'Pope Francis talks about gay clergy, role of women on flight from Brazil to Vatican', 'type': 'article', 'score': 12.86723457266996}\n",
      "for query women clergy there are 4 hits\n"
     ]
    },
    {
     "name": "stderr",
     "output_type": "stream",
     "text": [
      "\r",
      " 46%|███████████████████████████████████████████████████████████████████████████████▌                                                                                             | 23/50 [00:11<00:13,  2.06it/s]"
     ]
    },
    {
     "name": "stdout",
     "output_type": "stream",
     "text": [
      "for query human stampede there are 0 hits\n"
     ]
    },
    {
     "name": "stderr",
     "output_type": "stream",
     "text": [
      "\r",
      " 48%|███████████████████████████████████████████████████████████████████████████████████                                                                                          | 24/50 [00:11<00:12,  2.11it/s]"
     ]
    },
    {
     "name": "stdout",
     "output_type": "stream",
     "text": [
      "for query food stamps increase there are 0 hits\n"
     ]
    },
    {
     "name": "stderr",
     "output_type": "stream",
     "text": [
      "\r",
      " 50%|██████████████████████████████████████████████████████████████████████████████████████▌                                                                                      | 25/50 [00:12<00:11,  2.13it/s]"
     ]
    },
    {
     "name": "stdout",
     "output_type": "stream",
     "text": [
      "for query college education advantage there are 0 hits\n"
     ]
    },
    {
     "name": "stderr",
     "output_type": "stream",
     "text": [
      "\r",
      " 52%|█████████████████████████████████████████████████████████████████████████████████████████▉                                                                                   | 26/50 [00:12<00:11,  2.13it/s]"
     ]
    },
    {
     "name": "stdout",
     "output_type": "stream",
     "text": [
      "for query Africa polio vaccination there are 0 hits\n"
     ]
    },
    {
     "name": "stderr",
     "output_type": "stream",
     "text": [
      "\r",
      " 54%|█████████████████████████████████████████████████████████████████████████████████████████████▍                                                                               | 27/50 [00:13<00:11,  1.95it/s]"
     ]
    },
    {
     "name": "stdout",
     "output_type": "stream",
     "text": [
      "{'article_url': 'https://www.washingtonpost.com/news/worldviews/wp/2013/10/28/saudi-arabias-oppression-of-women-goes-way-beyond-its-ban-on-driving/', 'doc_id': '6b90757387020a36d33dccc485867139', 'source': 'The Washington Post', 'title': 'Saudi Arabia’s oppression of women goes way beyond its ban on driving', 'type': 'blog', 'score': 26.54464063258013}\n",
      "for query women driving in Saudi Arabia there are 1 hits\n"
     ]
    },
    {
     "name": "stderr",
     "output_type": "stream",
     "text": [
      "\r",
      " 56%|████████████████████████████████████████████████████████████████████████████████████████████████▉                                                                            | 28/50 [00:13<00:10,  2.04it/s]"
     ]
    },
    {
     "name": "stdout",
     "output_type": "stream",
     "text": [
      "for query declining middle class in U.S. there are 0 hits\n"
     ]
    },
    {
     "name": "stderr",
     "output_type": "stream",
     "text": [
      "\r",
      " 58%|████████████████████████████████████████████████████████████████████████████████████████████████████▎                                                                        | 29/50 [00:14<00:09,  2.13it/s]"
     ]
    },
    {
     "name": "stdout",
     "output_type": "stream",
     "text": [
      "for query \"Women on 20s\" there are 0 hits\n"
     ]
    },
    {
     "name": "stderr",
     "output_type": "stream",
     "text": [
      "\r",
      " 60%|███████████████████████████████████████████████████████████████████████████████████████████████████████▊                                                                     | 30/50 [00:14<00:09,  2.00it/s]"
     ]
    },
    {
     "name": "stdout",
     "output_type": "stream",
     "text": [
      "{'article_url': 'https://www.washingtonpost.com/national/health-science/can-us-eliminate-invasive-species-by-eating-them/2014/05/25/e61cbb4c-e449-11e3-8f90-73e071f3d637_story.html', 'doc_id': 'e61cbb4c-e449-11e3-8f90-73e071f3d637', 'source': 'The Washington Post', 'title': 'Can U.S. eliminate invasive species by eating them?', 'type': 'article', 'score': 31.400425560231092}\n",
      "for query eating invasive species there are 1 hits\n"
     ]
    },
    {
     "name": "stderr",
     "output_type": "stream",
     "text": [
      "\r",
      " 62%|███████████████████████████████████████████████████████████████████████████████████████████████████████████▎                                                                 | 31/50 [00:15<00:09,  2.10it/s]"
     ]
    },
    {
     "name": "stdout",
     "output_type": "stream",
     "text": [
      "for query computers and paralyzed people there are 0 hits\n"
     ]
    },
    {
     "name": "stderr",
     "output_type": "stream",
     "text": [
      "\r",
      " 64%|██████████████████████████████████████████████████████████████████████████████████████████████████████████████▋                                                              | 32/50 [00:15<00:08,  2.17it/s]"
     ]
    },
    {
     "name": "stdout",
     "output_type": "stream",
     "text": [
      "for query Chavez medical treatment in Cuba there are 0 hits\n"
     ]
    },
    {
     "name": "stderr",
     "output_type": "stream",
     "text": [
      "\r",
      " 66%|██████████████████████████████████████████████████████████████████████████████████████████████████████████████████▏                                                          | 33/50 [00:16<00:07,  2.25it/s]"
     ]
    },
    {
     "name": "stdout",
     "output_type": "stream",
     "text": [
      "for query Boston marathon bombing verdict there are 0 hits\n"
     ]
    },
    {
     "name": "stderr",
     "output_type": "stream",
     "text": [
      "\r",
      " 68%|█████████████████████████████████████████████████████████████████████████████████████████████████████████████████████▋                                                       | 34/50 [00:16<00:07,  2.07it/s]"
     ]
    },
    {
     "name": "stdout",
     "output_type": "stream",
     "text": [
      "{'article_url': 'https://www.washingtonpost.com/news/innovations/wp/2016/01/13/how-nasas-planetary-defense-officer-will-protect-earth-from-asteroids/', 'doc_id': '5e8d3671f7dcf4a27b0175f2153a970e', 'source': 'The Washington Post', 'title': 'How NASA’s planetary defense officer will protect Earth from asteroids', 'type': 'blog', 'score': 26.59283654323248}\n",
      "for query protect Earth from asteroids there are 1 hits\n"
     ]
    },
    {
     "name": "stderr",
     "output_type": "stream",
     "text": [
      "\r",
      " 70%|█████████████████████████████████████████████████████████████████████████████████████████████████████████████████████████                                                    | 35/50 [00:17<00:07,  2.10it/s]"
     ]
    },
    {
     "name": "stdout",
     "output_type": "stream",
     "text": [
      "for query diabetes and toxic chemicals there are 0 hits\n"
     ]
    },
    {
     "name": "stderr",
     "output_type": "stream",
     "text": [
      "\r",
      " 72%|████████████████████████████████████████████████████████████████████████████████████████████████████████████████████████████▌                                                | 36/50 [00:17<00:07,  1.94it/s]"
     ]
    },
    {
     "name": "stdout",
     "output_type": "stream",
     "text": [
      "{'article_url': 'https://www.washingtonpost.com/news/morning-mix/wp/2015/10/28/hacking-your-car-is-cool-with-us-says-u-s-copyright-authority/', 'doc_id': '5a9d8850cdc264ec5419ec07187a4da0', 'source': 'The Washington Post', 'title': 'Hacking your car is cool with us, says U.S. copyright authority', 'type': 'blog', 'score': 15.863104276278591}\n",
      "{'article_url': 'https://www.washingtonpost.com/news/innovations/wp/2017/03/08/what-we-know-about-car-hacking-the-cia-and-those-wikileaks-claims/', 'doc_id': '7756e722fa18120f9f5dba393312337f', 'source': 'The Washington Post', 'title': 'What we know about car hacking, the CIA and those WikiLeaks claims', 'type': 'blog', 'score': 14.160058308538758}\n",
      "{'article_url': 'https://www.washingtonpost.com/news/morning-mix/wp/2015/07/22/car-hacking-just-got-real-hackers-disable-suv-on-busy-highway/', 'doc_id': '1cf0d9b500504e613bd2d151744761fd', 'source': 'The Washington Post', 'title': '‘Car hacking’ just got real: In experiment, hackers disable SUV on busy highway', 'type': 'blog', 'score': 12.196029255552672}\n",
      "{'article_url': 'https://www.washingtonpost.com/news/morning-mix/wp/2015/07/22/car-hacking-just-got-real-hackers-disable-SUV-on-busy-highway/', 'doc_id': 'a244d1e0cfd916a2af76b6a6c785b017', 'source': 'The Washington Post', 'title': '‘Car hacking’ just got real: In experiment, hackers disable SUV on busy highway', 'type': 'blog', 'score': 12.196029255552672}\n",
      "for query car hacking there are 4 hits\n"
     ]
    },
    {
     "name": "stderr",
     "output_type": "stream",
     "text": [
      "\r",
      " 74%|████████████████████████████████████████████████████████████████████████████████████████████████████████████████████████████████                                             | 37/50 [00:18<00:06,  2.01it/s]"
     ]
    },
    {
     "name": "stdout",
     "output_type": "stream",
     "text": [
      "for query social media and teen suicide there are 0 hits\n"
     ]
    },
    {
     "name": "stderr",
     "output_type": "stream",
     "text": [
      "\r",
      " 76%|███████████████████████████████████████████████████████████████████████████████████████████████████████████████████████████████████▍                                         | 38/50 [00:18<00:06,  1.91it/s]"
     ]
    },
    {
     "name": "stdout",
     "output_type": "stream",
     "text": [
      "{'article_url': 'https://www.washingtonpost.com/local/public-safety/shatter-super-high-potency-marijuana-now-appearing-on-east-coast/2015/12/23/e09dfde4-a8fa-11e5-bff5-905b92f5f94b_story.html', 'doc_id': 'e09dfde4-a8fa-11e5-bff5-905b92f5f94b', 'source': 'The Washington Post', 'title': 'Shatter, a super-high-potency marijuana, is appearing on the East Coast', 'type': 'article', 'score': 19.94741734875734}\n",
      "{'article_url': 'https://www.washingtonpost.com/news/to-your-health/wp/2015/06/24/many-marijuana-products-have-wildly-inaccurate-labeling-for-potency-study-says/', 'doc_id': 'f66966a49be9635488271b675e572a5d', 'source': 'The Washington Post', 'title': 'Many marijuana products have wildly inaccurate labeling for potency, study says', 'type': 'blog', 'score': 18.87665061574705}\n",
      "for query marijuana potency there are 2 hits\n"
     ]
    },
    {
     "name": "stderr",
     "output_type": "stream",
     "text": [
      "\r",
      " 78%|██████████████████████████████████████████████████████████████████████████████████████████████████████████████████████████████████████▉                                      | 39/50 [00:19<00:05,  1.96it/s]"
     ]
    },
    {
     "name": "stdout",
     "output_type": "stream",
     "text": [
      "for query China one-child impact there are 0 hits\n"
     ]
    },
    {
     "name": "stderr",
     "output_type": "stream",
     "text": [
      "\r",
      " 80%|██████████████████████████████████████████████████████████████████████████████████████████████████████████████████████████████████████████▍                                  | 40/50 [00:19<00:05,  2.00it/s]"
     ]
    },
    {
     "name": "stdout",
     "output_type": "stream",
     "text": [
      "for query Jason Rezaian released from Iran there are 0 hits\n"
     ]
    },
    {
     "name": "stderr",
     "output_type": "stream",
     "text": [
      "\r",
      " 82%|█████████████████████████████████████████████████████████████████████████████████████████████████████████████████████████████████████████████▊                               | 41/50 [00:20<00:04,  2.08it/s]"
     ]
    },
    {
     "name": "stdout",
     "output_type": "stream",
     "text": [
      "for query federal minimum wage increase there are 0 hits\n"
     ]
    },
    {
     "name": "stderr",
     "output_type": "stream",
     "text": [
      "\r",
      " 84%|█████████████████████████████████████████████████████████████████████████████████████████████████████████████████████████████████████████████████▎                           | 42/50 [00:20<00:03,  2.12it/s]"
     ]
    },
    {
     "name": "stdout",
     "output_type": "stream",
     "text": [
      "for query Alan Gross released by Cuba there are 0 hits\n"
     ]
    },
    {
     "name": "stderr",
     "output_type": "stream",
     "text": [
      "\r",
      " 86%|████████████████████████████████████████████████████████████████████████████████████████████████████████████████████████████████████████████████████▊                        | 43/50 [00:21<00:03,  2.22it/s]"
     ]
    },
    {
     "name": "stdout",
     "output_type": "stream",
     "text": [
      "for query eggs in a healthy diet there are 0 hits\n"
     ]
    },
    {
     "name": "stderr",
     "output_type": "stream",
     "text": [
      "\r",
      " 88%|████████████████████████████████████████████████████████████████████████████████████████████████████████████████████████████████████████████████████████▏                    | 44/50 [00:21<00:02,  2.25it/s]"
     ]
    },
    {
     "name": "stdout",
     "output_type": "stream",
     "text": [
      "for query U.S. age demographics there are 0 hits\n"
     ]
    },
    {
     "name": "stderr",
     "output_type": "stream",
     "text": [
      "\r",
      " 90%|███████████████████████████████████████████████████████████████████████████████████████████████████████████████████████████████████████████████████████████▋                 | 45/50 [00:21<00:02,  2.26it/s]"
     ]
    },
    {
     "name": "stdout",
     "output_type": "stream",
     "text": [
      "for query bacterial infection mortality rate there are 0 hits\n"
     ]
    },
    {
     "name": "stderr",
     "output_type": "stream",
     "text": [
      "\r",
      " 92%|███████████████████████████████████████████████████████████████████████████████████████████████████████████████████████████████████████████████████████████████▏             | 46/50 [00:22<00:01,  2.31it/s]"
     ]
    },
    {
     "name": "stdout",
     "output_type": "stream",
     "text": [
      "for query email scams there are 0 hits\n"
     ]
    },
    {
     "name": "stderr",
     "output_type": "stream",
     "text": [
      "\r",
      " 94%|██████████████████████████████████████████████████████████████████████████████████████████████████████████████████████████████████████████████████████████████████▌          | 47/50 [00:22<00:01,  2.11it/s]"
     ]
    },
    {
     "name": "stdout",
     "output_type": "stream",
     "text": [
      "{'article_url': 'https://www.washingtonpost.com/world/national-security/us-attributes-sony-attack-to-north-korea/2014/12/19/fc3aec60-8790-11e4-a702-fa31ff4ae98e_story.html', 'doc_id': 'fc3aec60-8790-11e4-a702-fa31ff4ae98e', 'source': 'The Washington Post', 'title': 'U.S. attributes cyberattack on Sony to North Korea', 'type': 'article', 'score': 21.46863457051561}\n",
      "{'article_url': 'https://www.washingtonpost.com/news/the-switch/wp/2014/12/03/the-cyberattack-on-sony-pictures-made-employees-collateral-damage/', 'doc_id': '56dbef5d663082005716ca2cbadb0204', 'source': 'The Washington Post', 'title': 'The cyberattack on Sony Pictures made employees collateral damage', 'type': 'blog', 'score': 20.177606287244032}\n",
      "{'article_url': 'https://www.washingtonpost.com/business/economy/energy-stocks-rally-even-as-oil-retreats/2014/12/02/8329da9e-7a65-11e4-b821-503cc7efed9e_story.html', 'doc_id': '8329da9e-7a65-11e4-b821-503cc7efed9e', 'source': 'The Washington Post', 'title': 'Experts say it is unlikely N.Korea was behind Sony cyberattack', 'type': 'article', 'score': 19.033043620701022}\n",
      "{'article_url': 'https://www.washingtonpost.com/business/on-small-business/small-business-advice-what-your-company-can-learn-from-the-sony-cyberattack/2014/12/23/af7acfc0-8ae3-11e4-9e8d-0c687bc18da4_story.html', 'doc_id': 'af7acfc0-8ae3-11e4-9e8d-0c687bc18da4', 'source': 'The Washington Post', 'title': 'Small business advice: What your company can learn from the Sony cyberattack', 'type': 'article', 'score': 19.033043620701022}\n",
      "{'article_url': 'https://www.washingtonpost.com/news/post-politics/wp/2014/12/19/obama-to-hold-his-end-of-the-year-press-conference-friday/', 'doc_id': '12a1eb67f5b03145efed48244a7c8b85', 'source': 'The Washington Post', 'title': 'Obama: Sony ‘made a mistake’ by pulling movie after cyberattack', 'type': 'blog', 'score': 19.033043620701022}\n",
      "{'article_url': 'https://www.washingtonpost.com/world/asia_pacific/n-korea-calls-for-joint-investigation-into-sony-cyberattack/2014/12/20/891970d8-8878-11e4-9534-f79a23c40e6c_story.html', 'doc_id': '891970d8-8878-11e4-9534-f79a23c40e6c', 'source': 'The Washington Post', 'title': 'North Korea calls for joint investigation with U.S. into cyberattack against Sony', 'type': 'article', 'score': 17.093775236934313}\n",
      "for query Sony cyberattack there are 6 hits\n"
     ]
    },
    {
     "name": "stderr",
     "output_type": "stream",
     "text": [
      "\r",
      " 96%|██████████████████████████████████████████████████████████████████████████████████████████████████████████████████████████████████████████████████████████████████████       | 48/50 [00:23<00:00,  2.17it/s]"
     ]
    },
    {
     "name": "stdout",
     "output_type": "stream",
     "text": [
      "for query control of MRSA there are 0 hits\n"
     ]
    },
    {
     "name": "stderr",
     "output_type": "stream",
     "text": [
      "\r",
      " 98%|█████████████████████████████████████████████████████████████████████████████████████████████████████████████████████████████████████████████████████████████████████████▌   | 49/50 [00:23<00:00,  2.19it/s]"
     ]
    },
    {
     "name": "stdout",
     "output_type": "stream",
     "text": [
      "for query Bezos purchases Washington Post there are 0 hits\n"
     ]
    },
    {
     "name": "stderr",
     "output_type": "stream",
     "text": [
      "100%|█████████████████████████████████████████████████████████████████████████████████████████████████████████████████████████████████████████████████████████████████████████████| 50/50 [00:24<00:00,  2.07it/s]"
     ]
    },
    {
     "name": "stdout",
     "output_type": "stream",
     "text": [
      "for query ethanol and food prices there are 0 hits\n"
     ]
    },
    {
     "name": "stderr",
     "output_type": "stream",
     "text": [
      "\n"
     ]
    },
    {
     "name": "stdout",
     "output_type": "stream",
     "text": [
      "Performance: 0.00%\n",
      "Done\n",
      "Starting over.\n"
     ]
    }
   ],
   "source": [
    "mySearchEngine = SearchEngine()\n",
    "mySearchEngine.run()"
   ]
  },
  {
   "cell_type": "code",
   "execution_count": null,
   "metadata": {},
   "outputs": [],
   "source": []
  }
 ],
 "metadata": {
  "kernelspec": {
   "display_name": "Python 3",
   "language": "python",
   "name": "python3"
  },
  "language_info": {
   "codemirror_mode": {
    "name": "ipython",
    "version": 3
   },
   "file_extension": ".py",
   "mimetype": "text/x-python",
   "name": "python",
   "nbconvert_exporter": "python",
   "pygments_lexer": "ipython3",
   "version": "3.7.9"
  }
 },
 "nbformat": 4,
 "nbformat_minor": 4
}
