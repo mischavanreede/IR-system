{
 "cells": [
  {
   "cell_type": "code",
   "execution_count": null,
   "metadata": {},
   "outputs": [],
   "source": [
    "import pandas as pd\n",
    "import numpy as np\n",
    "from tqdm import tqdm"
   ]
  },
  {
   "cell_type": "code",
   "execution_count": null,
   "metadata": {
    "scrolled": true
   },
   "outputs": [],
   "source": [
    "# load data; current representation pandas dataframe\n",
    "file = \"IMDB-Movie-Data.csv\"\n",
    "data = pd.read_csv(file)\n",
    "\n",
    "def data_preprocessing(data):\n",
    "    # lower case everything; more preprocessing can be done \n",
    "    for column in ['Title', 'Genre', 'Description', 'Director', 'Actors']:\n",
    "        data[column] = data[column].apply(lambda x: x.lower())\n",
    "    data['Genre'] = data['Genre'].apply(lambda x: x.replace(',', ' '))\n",
    "    return data\n",
    "\n",
    "data = data_preprocessing(data)\n",
    "data.sample(2)"
   ]
  },
  {
   "cell_type": "code",
   "execution_count": 52,
   "metadata": {},
   "outputs": [
    {
     "name": "stdout",
     "output_type": "stream",
     "text": [
      "Test query:\n",
      "This isn't a very long test query... I hope that I will be receiving a good answer! Give me results from the 2016 elections\n",
      "Processed query:\n",
      "['isnt', 'long', 'test', 'queri', 'hope', 'receiv', 'good', 'answer', 'give', 'result', '2016', 'elect']\n",
      "Test query after processing:\n",
      "This isn't a very long test query... I hope that I will be receiving a good answer! Give me results from the 2016 elections\n"
     ]
    }
   ],
   "source": [
    "import nltk\n",
    "import string\n",
    "from nltk.tokenize import word_tokenize\n",
    "from nltk.corpus import stopwords\n",
    "#nltk.download('stopwords')\n",
    "from nltk.stem.porter import PorterStemmer\n",
    "\n",
    "## get query\n",
    "#query = input(\"Enter Movie query: \")\n",
    "#query = list(query.split())\n",
    "\n",
    "\n",
    "# Retrieves the query from the user and returns it\n",
    "def get_user_query():\n",
    "    userInput = input(\"Enter search query: \")\n",
    "    print(\"Literal query \" + userInput)\n",
    "    return userInput\n",
    "\n",
    "# This function processes the user query\n",
    "def query_representation_function(query):\n",
    "    # Convert to lowercase\n",
    "    query = query.lower()\n",
    "    # Remove Punctuation ( !\"#$%&'()*+,-./:;<=>?@[\\]^_`{|}~ )\n",
    "    query_removed_punctuation = \"\".join([char for char in query if char not in string.punctuation])\n",
    "    # Tokenization\n",
    "    query_tokenized = word_tokenize(query_removed_punctuation)\n",
    "    # Stopword Filtering\n",
    "    english_stopwords = stopwords.words('english')\n",
    "    query_removed_stopwords = [word for word in query_tokenized if word not in english_stopwords]\n",
    "    # Stemming\n",
    "    porter = PorterStemmer()\n",
    "    query_stemmed = [porter.stem(word) for word in query_removed_stopwords]\n",
    "    \n",
    "    return query_stemmed\n",
    "\n",
    "def test_print():\n",
    "    test_query = \"This isn't a very long test query... I hope that I will be receiving a good answer! Give me results from the 2016 elections\"\n",
    "    print(\"Test query:\\n\" + test_query)\n",
    "    print(\"Processed query:\")\n",
    "    print(query_representation_function(test_query))\n",
    "    print(\"Test query after processing:\\n\" + test_query)\n",
    "\n",
    "test_print()"
   ]
  },
  {
   "cell_type": "code",
   "execution_count": null,
   "metadata": {
    "scrolled": false
   },
   "outputs": [],
   "source": [
    "# scoring function\n",
    "def get_score(row, query):\n",
    "    score = 0\n",
    "    for word in query:\n",
    "        for col in ['Title', 'Genre', 'Description', 'Director', 'Actors', 'Year']:\n",
    "            if word in str(row[col]):\n",
    "                # for now matching a keyword in any column counts the same (insufficient for now ofc)\n",
    "                score += 1    \n",
    "    return score\n",
    "\n",
    "\n",
    "def rank_movies(data, query):\n",
    "    data['Score'] = 0\n",
    "    for i, row in tqdm(data.iterrows()):\n",
    "        score = get_score(row, query)\n",
    "        data.at[i,'Score'] = score\n",
    "\n",
    "    # first sort on Score then Rating\n",
    "    data.sort_values(['Score', 'Rating'], ascending = False, inplace = True)\n",
    "    \n",
    "    return data\n",
    "    \n",
    "ranked_data = rank_movies(data, query)\n",
    "\n",
    "# display top 5 movies\n",
    "#ranked_data.head(5)"
   ]
  },
  {
   "cell_type": "code",
   "execution_count": null,
   "metadata": {},
   "outputs": [],
   "source": [
    "# display results\n"
   ]
  }
 ],
 "metadata": {
  "kernelspec": {
   "display_name": "Python 3",
   "language": "python",
   "name": "python3"
  },
  "language_info": {
   "codemirror_mode": {
    "name": "ipython",
    "version": 3
   },
   "file_extension": ".py",
   "mimetype": "text/x-python",
   "name": "python",
   "nbconvert_exporter": "python",
   "pygments_lexer": "ipython3",
   "version": "3.8.3"
  }
 },
 "nbformat": 4,
 "nbformat_minor": 4
}
