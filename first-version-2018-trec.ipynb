{
 "cells": [
  {
   "cell_type": "code",
   "execution_count": 1,
   "metadata": {},
   "outputs": [],
   "source": [
    "import jsonlines\n",
    "from tqdm import tqdm\n",
    "import pandas as pd \n",
    "from nltk.tokenize import word_tokenize"
   ]
  },
  {
   "cell_type": "code",
   "execution_count": 2,
   "metadata": {},
   "outputs": [
    {
     "name": "stderr",
     "output_type": "stream",
     "text": [
      "595037it [01:26, 6916.07it/s] \n"
     ]
    }
   ],
   "source": [
    "df = pd.DataFrame(columns = ['Title', 'Content', 'Year']) \n",
    "\n",
    "with jsonlines.open('WP-corpus/data/TREC_Washington_Post_collection.v2.jl') as reader:\n",
    "    for obj in tqdm(reader):        \n",
    "        if '2018' in str(obj['published_date']):\n",
    "            content = \"\"\n",
    "            for item in obj['contents']:\n",
    "                if 'content' in item.keys():                   \n",
    "                    content  = content + \" \" + str(item['content'])\n",
    "            df = df.append({'Title' : obj['title'], 'Content' : content, 'Date' : obj['published_date']},  \n",
    "                ignore_index = True) "
   ]
  },
  {
   "cell_type": "code",
   "execution_count": 3,
   "metadata": {},
   "outputs": [],
   "source": [
    "def get_score(text, query):\n",
    "    score = 0\n",
    "    \n",
    "    query_tokens = word_tokenize(query)\n",
    "    for token in query_tokens:\n",
    "        if token in text:\n",
    "            score +=1\n",
    "            \n",
    "    return score"
   ]
  },
  {
   "cell_type": "code",
   "execution_count": 4,
   "metadata": {},
   "outputs": [
    {
     "name": "stdout",
     "output_type": "stream",
     "text": [
      "Index(['Title', 'Content', 'Year', 'Date', 'topic1'], dtype='object')\n"
     ]
    },
    {
     "data": {
      "text/html": [
       "<div>\n",
       "<style scoped>\n",
       "    .dataframe tbody tr th:only-of-type {\n",
       "        vertical-align: middle;\n",
       "    }\n",
       "\n",
       "    .dataframe tbody tr th {\n",
       "        vertical-align: top;\n",
       "    }\n",
       "\n",
       "    .dataframe thead th {\n",
       "        text-align: right;\n",
       "    }\n",
       "</style>\n",
       "<table border=\"1\" class=\"dataframe\">\n",
       "  <thead>\n",
       "    <tr style=\"text-align: right;\">\n",
       "      <th></th>\n",
       "      <th>Title</th>\n",
       "      <th>Content</th>\n",
       "      <th>Year</th>\n",
       "      <th>Date</th>\n",
       "      <th>topic1</th>\n",
       "    </tr>\n",
       "  </thead>\n",
       "  <tbody>\n",
       "    <tr>\n",
       "      <th>0</th>\n",
       "      <td>50 years ago, Kennedy’s order empowered federa...</td>\n",
       "      <td>Politics 50 years ago, Kennedy’s order empowe...</td>\n",
       "      <td>NaN</td>\n",
       "      <td>1.327020e+12</td>\n",
       "      <td>0</td>\n",
       "    </tr>\n",
       "    <tr>\n",
       "      <th>171</th>\n",
       "      <td>Why ‘Game of Thrones’ is obsessed with an obsc...</td>\n",
       "      <td>Act Four Why ‘Game of Thrones’ is obsessed wi...</td>\n",
       "      <td>NaN</td>\n",
       "      <td>1.431522e+12</td>\n",
       "      <td>0</td>\n",
       "    </tr>\n",
       "    <tr>\n",
       "      <th>158</th>\n",
       "      <td>Capitals benefiting from a more balanced offen...</td>\n",
       "      <td>Express Capitals benefiting from a more balan...</td>\n",
       "      <td>NaN</td>\n",
       "      <td>1.420632e+12</td>\n",
       "      <td>0</td>\n",
       "    </tr>\n",
       "    <tr>\n",
       "      <th>159</th>\n",
       "      <td>D.C. open houses Jan. 24-25</td>\n",
       "      <td>Where We Live D.C. open houses Jan. 24-25 By ...</td>\n",
       "      <td>NaN</td>\n",
       "      <td>1.422018e+12</td>\n",
       "      <td>0</td>\n",
       "    </tr>\n",
       "    <tr>\n",
       "      <th>160</th>\n",
       "      <td>This year’s “Best Children’s Album” Grammy nom...</td>\n",
       "      <td>On Parenting This year’s “Best Children’s Alb...</td>\n",
       "      <td>NaN</td>\n",
       "      <td>1.422018e+12</td>\n",
       "      <td>0</td>\n",
       "    </tr>\n",
       "  </tbody>\n",
       "</table>\n",
       "</div>"
      ],
      "text/plain": [
       "                                                 Title  \\\n",
       "0    50 years ago, Kennedy’s order empowered federa...   \n",
       "171  Why ‘Game of Thrones’ is obsessed with an obsc...   \n",
       "158  Capitals benefiting from a more balanced offen...   \n",
       "159                        D.C. open houses Jan. 24-25   \n",
       "160  This year’s “Best Children’s Album” Grammy nom...   \n",
       "\n",
       "                                               Content Year          Date  \\\n",
       "0     Politics 50 years ago, Kennedy’s order empowe...  NaN  1.327020e+12   \n",
       "171   Act Four Why ‘Game of Thrones’ is obsessed wi...  NaN  1.431522e+12   \n",
       "158   Express Capitals benefiting from a more balan...  NaN  1.420632e+12   \n",
       "159   Where We Live D.C. open houses Jan. 24-25 By ...  NaN  1.422018e+12   \n",
       "160   On Parenting This year’s “Best Children’s Alb...  NaN  1.422018e+12   \n",
       "\n",
       "     topic1  \n",
       "0         0  \n",
       "171       0  \n",
       "158       0  \n",
       "159       0  \n",
       "160       0  "
      ]
     },
     "execution_count": 4,
     "metadata": {},
     "output_type": "execute_result"
    }
   ],
   "source": [
    "# add columns for topic\n",
    "topic1 = \"presendential elections\" # made something up for now \n",
    "df['topic1'] = 0\n",
    "print(df.columns)\n",
    "\n",
    "for index, row in df.iterrows():\n",
    "    score = get_score(row['Content'], topic1)\n",
    "    row['topic1'] = score\n",
    "\n",
    "# sort\n",
    "df.sort_values(['topic1'], ascending = False, inplace = True)\n",
    "df.head()"
   ]
  },
  {
   "cell_type": "code",
   "execution_count": null,
   "metadata": {},
   "outputs": [],
   "source": []
  },
  {
   "cell_type": "code",
   "execution_count": null,
   "metadata": {},
   "outputs": [],
   "source": []
  }
 ],
 "metadata": {
  "kernelspec": {
   "display_name": "Python 3",
   "language": "python",
   "name": "python3"
  },
  "language_info": {
   "codemirror_mode": {
    "name": "ipython",
    "version": 3
   },
   "file_extension": ".py",
   "mimetype": "text/x-python",
   "name": "python",
   "nbconvert_exporter": "python",
   "pygments_lexer": "ipython3",
   "version": "3.7.9"
  }
 },
 "nbformat": 4,
 "nbformat_minor": 4
}
